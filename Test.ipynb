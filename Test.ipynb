{
 "cells": [
  {
   "cell_type": "markdown",
   "metadata": {},
   "source": [
    "<a id='toc'></a>\n",
    "# Table of Contents\n",
    "* [0. General classes](#funcs)\n",
    "* [1. Analytical model](#ana)\n",
    "    * [1.1 Tracer](#tracer)\n",
    "    * [1.2 Testing](#ana_testing)\n",
    "        * [1.2.1 CBR](#ana_test_cbr)\n",
    "        * [1.2.2 VBR](#ana_test_vbr)\n",
    "        * [1.2.3 Trace](#ana_test_trace)\n",
    "* [2. Simulation model](#sim)\n",
    "* [3. ConfigParser](#config_parser)\n",
    "* [4. Analytical + simulation](#anasim)\n",
    "    * [4.1 Analytical model](#anasim_ana)\n",
    "    * [4.2 Simulation model](#anasim_sim)\n",
    "* [5. Random Access Function](#raf)\n",
    "    * [5.1 Class](#raf_class)\n",
    "    * [5.2 Tests](#raf_tests)"
   ]
  },
  {
   "cell_type": "markdown",
   "metadata": {},
   "source": [
    "<a id='funcs'></a>\n",
    "# 0. General classes<sup>[toc](#toc)</sup>"
   ]
  },
  {
   "cell_type": "code",
   "execution_count": 2,
   "metadata": {
    "collapsed": true
   },
   "outputs": [],
   "source": [
    "# %load new_model.py\n",
    "\n",
    "import numpy as np\n",
    "import pandas as pd\n",
    "\n",
    "import random\n",
    "import math\n",
    "import matplotlib\n",
    "import matplotlib.pyplot as plt\n",
    "import subprocess\n",
    "import sys, os, argparse\n",
    "import pickle as pkl\n",
    "import copy\n",
    "import numbers\n",
    "\n",
    "from collections import Counter, defaultdict\n",
    "from itertools import product\n",
    "from fractions import gcd\n",
    "from ast import literal_eval\n",
    "\n",
    "import logging\n",
    "import time\n",
    "\n",
    "# Распределения\n",
    "from scipy.stats import binom, geom, poisson\n",
    "from scipy import sparse\n",
    "from scipy.sparse import coo_matrix, csr_matrix\n",
    "from scipy.sparse.linalg import spsolve, bicgstab, eigs, svds, ArpackNoConvergence\n",
    "from scipy.sparse.csgraph import connected_components"
   ]
  },
  {
   "cell_type": "markdown",
   "metadata": {},
   "source": [
    "<a id='ana'></a>\n",
    "# 1. Analytical model<sup>[toc](#toc)</sup>"
   ]
  },
  {
   "cell_type": "code",
   "execution_count": 34,
   "metadata": {},
   "outputs": [
    {
     "data": {
      "text/plain": [
       "<matplotlib.figure.Figure at 0x20b20ad7978>"
      ]
     },
     "metadata": {},
     "output_type": "display_data"
    }
   ],
   "source": [
    "ana_dat = pd.read_table(\"output_ana.txt\", header = None)\n",
    "ana_dat.columns = ['n_exper', 'Tres', 'PLR']\n",
    "sim_dat = pd.read_table(\"output.txt\", header = None)\n",
    "sim_dat.columns = ['seed', 'Tres', 'n_exper', 'PLR']\n",
    "sim_dat['n_exper'] /= 5000\n",
    "res_sim = sim_dat.groupby(['n_exper', 'Tres'])['PLR'].mean()\n",
    "err_sim = sim_dat.groupby(['n_exper', 'Tres'])['PLR'].std()\n",
    "ana_dat = ana_dat\n",
    "TRES = []\n",
    "for i in range(10):\n",
    "    TRES.append((i+1)*10)\n",
    "\n",
    "for i in range(10):\n",
    "    simulation_plrs = []\n",
    "    for k in res_sim[i]:\n",
    "        simulation_plrs.append(k)\n",
    "    analytical_plrs = ana_dat[ana_dat['n_exper'] == i]\n",
    "    %matplotlib inline\n",
    "    plt.figure(figsize=(10, 8))\n",
    "    plt.plot(TRES, simulation_plrs, label='sim', marker='x')\n",
    "    plt.plot(analytical_plrs['Tres'], analytical_plrs['PLR'], label='ana', marker='+')\n",
    "    plt.grid()\n",
    "    plt.yscale('log')\n",
    "    plt.savefig ('experiment_{}.png'.format(i), format='png', dpi=500)\n",
    "    plt.clf()"
   ]
  },
  {
   "cell_type": "code",
   "execution_count": 208,
   "metadata": {},
   "outputs": [
    {
     "name": "stdout",
     "output_type": "stream",
     "text": [
      "Anticipated number of iterations equals 100000\n",
      "Number if iteration 9999, state space size equals 2\n",
      "Number if iteration 19999, state space size equals 2\n",
      "Number if iteration 29999, state space size equals 2\n",
      "Number if iteration 39999, state space size equals 2\n",
      "Number if iteration 49999, state space size equals 2\n",
      "Number if iteration 59999, state space size equals 2\n",
      "Number if iteration 69999, state space size equals 2\n",
      "Number if iteration 79999, state space size equals 2\n",
      "Number if iteration 89999, state space size equals 2\n",
      "Number if iteration 99999, state space size equals 2\n",
      "200 0.0900000000001\n"
     ]
    }
   ],
   "source": [
    "Tres_range = list(range(200, 201, 10))\n",
    "plrs = []\n",
    "for Tres in Tres_range:\n",
    "    tracer = BaseTracer(Tin, Tres, D, PER)\n",
    "    plr = tracer(W, trace, problist, lostlist, verbose=4, report_period=10000, min_tracked_proba=1e-12)\n",
    "    print(Tres, plr)\n",
    "    plrs.append(plr)"
   ]
  },
  {
   "cell_type": "code",
   "execution_count": null,
   "metadata": {
    "collapsed": true
   },
   "outputs": [],
   "source": [
    "for i in range(10):\n",
    "    "
   ]
  },
  {
   "cell_type": "markdown",
   "metadata": {},
   "source": [
    "# MY CHECK"
   ]
  },
  {
   "cell_type": "markdown",
   "metadata": {},
   "source": [
    "### Functions to gain distribution and trace"
   ]
  },
  {
   "cell_type": "code",
   "execution_count": 20,
   "metadata": {},
   "outputs": [],
   "source": [
    "def preprocessor(batchfile_path, h,m,n, arr_period, alpha, tail_length=-1):\n",
    "    trace = []\n",
    "    whole_trace = pd.read_table(batchfile_path, header = None).values.flatten()\n",
    "\n",
    "    if h>= 0:\n",
    "        trace.append(m)\n",
    "        h -= arr_period\n",
    "        n +=1\n",
    "        while h >= 0:\n",
    "            trace.append(whole_trace[n])\n",
    "            h -= arr_period\n",
    "            n +=1\n",
    "            \n",
    "    input_distr_dict = distributor(trace, alpha, tail_length)\n",
    "    \n",
    "    return trace, input_distr_dict\n",
    "\n",
    "def distributor(trace, alpha, tail_length=-1, n=-1):\n",
    "    if tail_length != -1:\n",
    "        if n != -1:\n",
    "            tail_trace = trace[n - tail_length:n]\n",
    "        else:\n",
    "            tail_trace = trace[- tail_length:]\n",
    "    else:\n",
    "        if n != -1:\n",
    "            tail_trace = trace[:n]\n",
    "        else:\n",
    "            tail_trace = trace\n",
    "            \n",
    "    tail_trace = tail_trace[::-1] #Развернуть для удобного подсчёта распределения\n",
    "\n",
    "    input_distr_dict = Counter()\n",
    "    \n",
    "    for i in range(len(tail_trace)):\n",
    "        input_distr_dict[tail_trace[i]] += alpha ** i\n",
    "    if alpha != 1:\n",
    "        for batch_size, prob in input_distr_dict.items():\n",
    "            input_distr_dict[batch_size] /= (1 - alpha ** tail_length) / (1 - alpha)\n",
    "    else:\n",
    "        summa = sum(input_distr_dict.values())\n",
    "        for batch_size, prob in input_distr_dict.items():\n",
    "            input_distr_dict[batch_size] /= summa\n",
    "    return input_distr_dict\n"
   ]
  },
  {
   "cell_type": "code",
   "execution_count": 21,
   "metadata": {},
   "outputs": [],
   "source": [
    "def find_stationary_distribution(P, max_error=1e-9, iterative=False, multiplier=1000):\n",
    "    assert (len(P.shape) == 2) & (P.shape[0] == P.shape[1])\n",
    "\n",
    "    size = P.shape[0]\n",
    "    P = P.tocoo()\n",
    "    P = (P - sparse.eye(size)).transpose().tocsr()\n",
    "\n",
    "    selected_column = random.randrange(size)\n",
    "    upper_P = P[:selected_column]\n",
    "    lower_P = P[selected_column + 1:]\n",
    "    row = sparse.csr_matrix(np.ones(size))\n",
    "    if selected_column == 0:\n",
    "        P = sparse.vstack([row, lower_P])\n",
    "    elif selected_column == size - 1:\n",
    "        P = sparse.vstack([upper_P, row])\n",
    "    else:\n",
    "        P = sparse.vstack([upper_P, row, lower_P])\n",
    "\n",
    "    b = np.zeros(size)\n",
    "    b[selected_column] = multiplier\n",
    "    P = P.tocsr()\n",
    "    if iterative:\n",
    "        x0 = np.array([multiplier / size] * size)       # Нулевое приближение\n",
    "        x = bicgstab(P, b, x0=x0, tol=1e-10, maxiter=4000)[0]\n",
    "    else:\n",
    "        x = spsolve(P, b)\n",
    "    x /= multiplier\n",
    "    return x\n",
    "\n",
    "class BurstyVbrOrderedModel:\n",
    "    string_id = 'TXOP'\n",
    "    number_id = -1\n",
    "\n",
    "    def __init__(self, parameters):\n",
    "        self.initialize(parameters)\n",
    "\n",
    "    def initialize(self, parameters):\n",
    "        self.parameters  = copy.deepcopy(parameters)\n",
    "\n",
    "        self.model_type  = self.parameters['model_type']\n",
    "        self.arr_period  = self.parameters['arr_period']\n",
    "        self.input_distr = copy.deepcopy(self.parameters['input_distr'])\n",
    "        self.res_period  = self.parameters['res_period']\n",
    "        self.block_size  = self.parameters['block_size']\n",
    "        self.delay_bound = self.parameters['delay_bound']\n",
    "        self.per         = self.parameters['per']\n",
    "\n",
    "        if 'seed' not in parameters:\n",
    "            self.parameters['seed'] = 1\n",
    "        if 'output_flow' not in parameters:\n",
    "            self.parameters['output_flow'] = False\n",
    "\n",
    "        if 'max_error' not in parameters:\n",
    "            self.parameters['max_error'] = 1e-9\n",
    "        if 'iterative' not in parameters:\n",
    "            self.parameters['iterative'] = False\n",
    "\n",
    "        if 'check_time' not in parameters:\n",
    "            self.parameters['check_time'] = False\n",
    "\n",
    "        self.seed = self.parameters['seed']\n",
    "        self.output_flow = self.parameters['output_flow']\n",
    "\n",
    "        self.max_error = self.parameters['max_error']\n",
    "        self.iterative = self.parameters['iterative']\n",
    "\n",
    "        self.check_time = self.parameters['check_time']\n",
    "\n",
    "    def __call__(self):\n",
    "        slot = gcd(self.arr_period, self.res_period)\n",
    "        tres = self.res_period // slot\n",
    "        tin = self.arr_period // slot\n",
    "        d = self.delay_bound // slot\n",
    "        input_probs = self.input_distr\n",
    "        M = len(input_probs) - 1\n",
    "        batch_sizes = np.array(range(M + 1))\n",
    "        size = (d + tin + 1) * M\n",
    "        forward_transform = lambda h, m: (h + tin) * M + m - 1\n",
    "\n",
    "        ###################################################################\n",
    "\n",
    "        start = time.clock()\n",
    "\n",
    "        # Нахождение матрицы A\n",
    "        self.selected_column = -1\n",
    "        self.nonzeros = []\n",
    "        self.row_indices = []\n",
    "        self.col_indices = []\n",
    "        \n",
    "        for initial_h in range(-tin, d + 1):\n",
    "            for initial_m in range(1, M + 1):\n",
    "                initial_state = forward_transform(initial_h, initial_m)\n",
    "                if initial_h < 0:\n",
    "                    final_h = initial_h\n",
    "                    final_m = initial_m\n",
    "                    final_state = forward_transform(final_h, final_m)\n",
    "                    self._add_transition(1, initial_state, final_state)\n",
    "                else:\n",
    "                    # Неуспешная передача\n",
    "                    final_h = initial_h\n",
    "                    final_m = initial_m\n",
    "                    final_state = forward_transform(final_h, final_m)\n",
    "                    self._add_transition(self.per, initial_state, final_state)\n",
    "\n",
    "                    if initial_m == 1:\n",
    "                        # Успешная передача при m = 1\n",
    "                        final_h = initial_h - tin\n",
    "                        for final_m in range(1, M + 1):\n",
    "                            final_state = forward_transform(final_h, final_m)\n",
    "                            self._add_transition((1 - self.per) * input_probs[final_m],\n",
    "                                                 initial_state, final_state)\n",
    "                    else:\n",
    "                        # Успешная передача при m > 1\n",
    "                        final_h = initial_h\n",
    "                        final_m = initial_m - 1\n",
    "                        final_state = forward_transform(final_h, final_m)\n",
    "                        self._add_transition(1 - self.per, initial_state, final_state)\n",
    "\n",
    "        A = sparse.csr_matrix((self.nonzeros, (self.row_indices, self.col_indices)),\n",
    "                              shape=(size, size))\n",
    "\n",
    "        # Нахождение матрицы C\n",
    "        self.selected_column = -1\n",
    "        self.nonzeros = []\n",
    "        self.row_indices = []\n",
    "        self.col_indices = []\n",
    "\n",
    "        for initial_h in range(-tin, d + 1):\n",
    "            for initial_m in range(1, M + 1):\n",
    "                initial_state = forward_transform(initial_h, initial_m)\n",
    "                if initial_h <= d - tres:\n",
    "                    final_h = initial_h + tres\n",
    "                    final_m = initial_m\n",
    "                    final_state = forward_transform(final_h, final_m)\n",
    "                    self._add_transition(1, initial_state, final_state)\n",
    "                else:\n",
    "                    n_lost = np.ceil(1.0 * max(0, initial_h + tres - tin - d) / tin)\n",
    "                    final_h = initial_h + tres - tin - n_lost * tin\n",
    "                    for final_m in range(1, M + 1):\n",
    "                        final_state = forward_transform(final_h, final_m)\n",
    "                        self._add_transition(input_probs[final_m],\n",
    "                                             initial_state, final_state)\n",
    "\n",
    "        C = sparse.csr_matrix((self.nonzeros, (self.row_indices, self.col_indices)),\n",
    "                              shape=(size, size))\n",
    "        A = A ** self.block_size\n",
    "        P = C * A\n",
    "        \n",
    "        end = time.clock()\n",
    "        if self.check_time:\n",
    "            print('Time: building transition matrix:', end - start)\n",
    "\n",
    "        ###################################################################\n",
    "\n",
    "        start = time.clock()\n",
    "        x = find_stationary_distribution(P, max_error=self.max_error, iterative=self.iterative, multiplier=1000)\n",
    "        self.x = x\n",
    "        end = time.clock()\n",
    "        if self.check_time:\n",
    "            print('Time: seeking for stationary distributions:', end - start)\n",
    "\n",
    "        ###################################################################\n",
    "\n",
    "        discarded_intensity = 0\n",
    "        average_input_batch_size = np.sum(np.arange(M + 1) * input_probs)\n",
    "        for h in range(d - tres + 1, d + 1):\n",
    "            for m in range(1, M + 1):\n",
    "                state = forward_transform(h, m)\n",
    "                n_lost = np.ceil(float(max(0, h + tres - tin - d)) / tin)\n",
    "                discarded_intensity += x[state] * (m + n_lost * average_input_batch_size)\n",
    "        discarded_intensity /= tres\n",
    "        input_intensity = average_input_batch_size / tin\n",
    "        self.plr = discarded_intensity / input_intensity\n",
    "\n",
    "        if self.output_flow:\n",
    "            self.calculate_output_flow()\n",
    "\n",
    "        return self.plr\n",
    "\n",
    "    def _add_transition(self, probability, initial_state, final_state):\n",
    "        if final_state != self.selected_column:\n",
    "            if probability > 0:\n",
    "                self.nonzeros.append(probability)\n",
    "                self.row_indices.append(initial_state)\n",
    "                self.col_indices.append(final_state)\n",
    "            assert probability >= 0, \"Negative probability\"\n",
    "            \n"
   ]
  },
  {
   "cell_type": "markdown",
   "metadata": {},
   "source": [
    "### Прогон"
   ]
  },
  {
   "cell_type": "markdown",
   "metadata": {},
   "source": [
    "<a id='ana_test_vbr'></a>\n",
    "### 1.2.2 VBR<sup>[toc](#toc)</sup>"
   ]
  },
  {
   "cell_type": "code",
   "execution_count": 29,
   "metadata": {
    "scrolled": true
   },
   "outputs": [
    {
     "name": "stdout",
     "output_type": "stream",
     "text": [
      "new_by_distr\t 1 \t 20 \t 0.017015333305\n",
      "old\t 1 \t 20 \t 0.017020639348739913\n"
     ]
    },
    {
     "ename": "KeyboardInterrupt",
     "evalue": "",
     "output_type": "error",
     "traceback": [
      "\u001b[0;31m---------------------------------------------------------------------------\u001b[0m",
      "\u001b[0;31mKeyboardInterrupt\u001b[0m                         Traceback (most recent call last)",
      "\u001b[0;32m<ipython-input-29-381fffb04a42>\u001b[0m in \u001b[0;36m<module>\u001b[0;34m()\u001b[0m\n\u001b[1;32m     44\u001b[0m         \u001b[0mstatesarrived\u001b[0m \u001b[0;34m=\u001b[0m \u001b[0;34m{\u001b[0m\u001b[0;34m(\u001b[0m\u001b[0;36m1\u001b[0m\u001b[0;34m,\u001b[0m \u001b[0;36m0\u001b[0m\u001b[0;34m,\u001b[0m \u001b[0;36m1\u001b[0m\u001b[0;34m,\u001b[0m \u001b[0;36m0\u001b[0m\u001b[0;34m)\u001b[0m\u001b[0;34m:\u001b[0m \u001b[0;36m0\u001b[0m\u001b[0;34m}\u001b[0m\u001b[0;34m\u001b[0m\u001b[0m\n\u001b[1;32m     45\u001b[0m         \u001b[0mtracer\u001b[0m\u001b[0;34m.\u001b[0m\u001b[0mreset\u001b[0m\u001b[0;34m(\u001b[0m\u001b[0mtrace\u001b[0m\u001b[0;34m,\u001b[0m \u001b[0mstatesprob\u001b[0m\u001b[0;34m,\u001b[0m \u001b[0mstateslost\u001b[0m\u001b[0;34m,\u001b[0m \u001b[0mstatesarrived\u001b[0m\u001b[0;34m,\u001b[0m \u001b[0minput_distr_dict\u001b[0m\u001b[0;34m)\u001b[0m\u001b[0;34m\u001b[0m\u001b[0m\n\u001b[0;32m---> 46\u001b[0;31m         \u001b[0mPLR_tracer\u001b[0m \u001b[0;34m=\u001b[0m \u001b[0mtracer\u001b[0m\u001b[0;34m(\u001b[0m\u001b[0mW\u001b[0m\u001b[0;34m,\u001b[0m \u001b[0mverbose\u001b[0m\u001b[0;34m=\u001b[0m\u001b[0;34m-\u001b[0m\u001b[0;36m1\u001b[0m\u001b[0;34m,\u001b[0m \u001b[0mreport_period\u001b[0m\u001b[0;34m=\u001b[0m\u001b[0;36m50000\u001b[0m\u001b[0;34m,\u001b[0m \u001b[0mmin_tracked_proba\u001b[0m\u001b[0;34m=\u001b[0m\u001b[0;36m1e-12\u001b[0m\u001b[0;34m,\u001b[0m \u001b[0mtime_verbose\u001b[0m\u001b[0;34m=\u001b[0m\u001b[0;32mFalse\u001b[0m\u001b[0;34m)\u001b[0m\u001b[0;34m\u001b[0m\u001b[0m\n\u001b[0m\u001b[1;32m     47\u001b[0m         \u001b[0mclear_output\u001b[0m\u001b[0;34m(\u001b[0m\u001b[0;32mTrue\u001b[0m\u001b[0;34m)\u001b[0m\u001b[0;34m\u001b[0m\u001b[0m\n\u001b[1;32m     48\u001b[0m         \u001b[0mprint\u001b[0m\u001b[0;34m(\u001b[0m\u001b[0;34m\"new_by_distr\\t\"\u001b[0m\u001b[0;34m,\u001b[0m \u001b[0mn_exper\u001b[0m\u001b[0;34m,\u001b[0m \u001b[0;34m\"\\t\"\u001b[0m\u001b[0;34m,\u001b[0m \u001b[0mTres\u001b[0m\u001b[0;34m,\u001b[0m \u001b[0;34m\"\\t\"\u001b[0m\u001b[0;34m,\u001b[0m \u001b[0mPLR_tracer\u001b[0m\u001b[0;34m)\u001b[0m\u001b[0;34m\u001b[0m\u001b[0m\n",
      "\u001b[0;32m<ipython-input-19-4638347b705c>\u001b[0m in \u001b[0;36m__call__\u001b[0;34m(self, W, min_tracked_proba, verbose, report_period, time_verbose)\u001b[0m\n\u001b[1;32m    203\u001b[0m                     \u001b[0mself\u001b[0m\u001b[0;34m.\u001b[0m\u001b[0mprinters\u001b[0m\u001b[0;34m[\u001b[0m\u001b[0mself\u001b[0m\u001b[0;34m.\u001b[0m\u001b[0mTR_INFO_2\u001b[0m\u001b[0;34m]\u001b[0m\u001b[0;34m(\u001b[0m\u001b[0;34m\"\\t\\th = {} is negative\"\u001b[0m\u001b[0;34m.\u001b[0m\u001b[0mformat\u001b[0m\u001b[0;34m(\u001b[0m\u001b[0mh\u001b[0m\u001b[0;34m)\u001b[0m\u001b[0;34m)\u001b[0m\u001b[0;34m\u001b[0m\u001b[0m\n\u001b[1;32m    204\u001b[0m                     \u001b[0mnext_state\u001b[0m \u001b[0;34m=\u001b[0m \u001b[0;34m(\u001b[0m\u001b[0mr\u001b[0m\u001b[0;34m,\u001b[0m \u001b[0mh\u001b[0m \u001b[0;34m+\u001b[0m \u001b[0mself\u001b[0m\u001b[0;34m.\u001b[0m\u001b[0mTres\u001b[0m\u001b[0;34m,\u001b[0m \u001b[0mm\u001b[0m\u001b[0;34m,\u001b[0m \u001b[0mn\u001b[0m\u001b[0;34m)\u001b[0m\u001b[0;34m\u001b[0m\u001b[0m\n\u001b[0;32m--> 205\u001b[0;31m                     \u001b[0mself\u001b[0m\u001b[0;34m.\u001b[0m\u001b[0m_add_proba\u001b[0m\u001b[0;34m(\u001b[0m\u001b[0mstate\u001b[0m\u001b[0;34m,\u001b[0m \u001b[0mnext_state\u001b[0m\u001b[0;34m,\u001b[0m \u001b[0;36m1.0\u001b[0m\u001b[0;34m,\u001b[0m \u001b[0mlosts\u001b[0m\u001b[0;34m,\u001b[0m \u001b[0marrived\u001b[0m\u001b[0;34m)\u001b[0m\u001b[0;34m\u001b[0m\u001b[0m\n\u001b[0m\u001b[1;32m    206\u001b[0m                 \u001b[0;32melif\u001b[0m \u001b[0mh\u001b[0m \u001b[0;34m<=\u001b[0m \u001b[0mself\u001b[0m\u001b[0;34m.\u001b[0m\u001b[0mD\u001b[0m \u001b[0;34m-\u001b[0m \u001b[0mself\u001b[0m\u001b[0;34m.\u001b[0m\u001b[0mTres\u001b[0m\u001b[0;34m:\u001b[0m\u001b[0;34m\u001b[0m\u001b[0m\n\u001b[1;32m    207\u001b[0m                     \u001b[0mself\u001b[0m\u001b[0;34m.\u001b[0m\u001b[0mprinters\u001b[0m\u001b[0;34m[\u001b[0m\u001b[0mself\u001b[0m\u001b[0;34m.\u001b[0m\u001b[0mTR_INFO_2\u001b[0m\u001b[0;34m]\u001b[0m\u001b[0;34m(\u001b[0m\u001b[0;34m\"\\t\\th = {} is in range [0, D - Tres]\"\u001b[0m\u001b[0;34m.\u001b[0m\u001b[0mformat\u001b[0m\u001b[0;34m(\u001b[0m\u001b[0mstate\u001b[0m\u001b[0;34m)\u001b[0m\u001b[0;34m)\u001b[0m\u001b[0;34m\u001b[0m\u001b[0m\n",
      "\u001b[0;32m<ipython-input-19-4638347b705c>\u001b[0m in \u001b[0;36m_add_proba\u001b[0;34m(self, state, next_state, tr_prob, losts, arrived)\u001b[0m\n\u001b[1;32m    261\u001b[0m         \u001b[0;32mif\u001b[0m \u001b[0mp\u001b[0m \u001b[0;34m>=\u001b[0m \u001b[0mself\u001b[0m\u001b[0;34m.\u001b[0m\u001b[0mmin_tracked_proba\u001b[0m\u001b[0;34m:\u001b[0m\u001b[0;34m\u001b[0m\u001b[0m\n\u001b[1;32m    262\u001b[0m             \u001b[0mself\u001b[0m\u001b[0;34m.\u001b[0m\u001b[0mnext_statesprob\u001b[0m\u001b[0;34m[\u001b[0m\u001b[0mnext_state\u001b[0m\u001b[0;34m]\u001b[0m \u001b[0;34m+=\u001b[0m \u001b[0mp\u001b[0m\u001b[0;34m\u001b[0m\u001b[0m\n\u001b[0;32m--> 263\u001b[0;31m             \u001b[0mself\u001b[0m\u001b[0;34m.\u001b[0m\u001b[0mnext_stateslost\u001b[0m\u001b[0;34m[\u001b[0m\u001b[0mnext_state\u001b[0m\u001b[0;34m]\u001b[0m \u001b[0;34m+=\u001b[0m \u001b[0mp\u001b[0m \u001b[0;34m*\u001b[0m \u001b[0mlosts\u001b[0m\u001b[0;34m\u001b[0m\u001b[0m\n\u001b[0m\u001b[1;32m    264\u001b[0m             \u001b[0mself\u001b[0m\u001b[0;34m.\u001b[0m\u001b[0mnext_statesarrived\u001b[0m\u001b[0;34m[\u001b[0m\u001b[0mnext_state\u001b[0m\u001b[0;34m]\u001b[0m \u001b[0;34m+=\u001b[0m \u001b[0mp\u001b[0m \u001b[0;34m*\u001b[0m \u001b[0marrived\u001b[0m\u001b[0;34m\u001b[0m\u001b[0m\n\u001b[1;32m    265\u001b[0m             \u001b[0mself\u001b[0m\u001b[0;34m.\u001b[0m\u001b[0mprinters\u001b[0m\u001b[0;34m[\u001b[0m\u001b[0mself\u001b[0m\u001b[0;34m.\u001b[0m\u001b[0mTR_INFO_3\u001b[0m\u001b[0;34m]\u001b[0m\u001b[0;34m(\u001b[0m\u001b[0;34m\"\\t\\t\\tTransition to {} with proba {}\"\u001b[0m\u001b[0;34m.\u001b[0m\u001b[0mformat\u001b[0m\u001b[0;34m(\u001b[0m\u001b[0mnext_state\u001b[0m\u001b[0;34m,\u001b[0m \u001b[0mtr_prob\u001b[0m\u001b[0;34m)\u001b[0m\u001b[0;34m)\u001b[0m\u001b[0;34m\u001b[0m\u001b[0m\n",
      "\u001b[0;31mKeyboardInterrupt\u001b[0m: "
     ]
    }
   ],
   "source": [
    "from IPython.display import clear_output\n",
    "\n",
    "PER = 0.3\n",
    "offset = 0\n",
    "D = 300\n",
    "Tres = 10\n",
    "Tin = 200\n",
    "\n",
    "\n",
    "TRACE = pd.read_csv('Dallas.batch.dat', header=None).values.flatten()\n",
    "\n",
    "n_batches = 5000\n",
    "\n",
    "W = n_batches * Tin\n",
    "TRES = [20, 25] #точки прогона\n",
    "\n",
    "for n_exper in range(10):\n",
    "    #print(\"№ \",n_exper, '\\n')\n",
    "    trace = TRACE[n_batches * n_exper:]\n",
    "    input_distr_dict = distributor(trace, alpha=1)\n",
    "    input_distr = np.zeros(150)\n",
    "    sizes = [i for i in range(150)]\n",
    "    for size, prob in input_distr_dict.items():\n",
    "        input_distr[size] = prob\n",
    "    trace = []\n",
    "    \n",
    "    for Tres in TRES:\n",
    "        \n",
    "        \n",
    "        #print(Tres)\n",
    "        #print(input_distr_dict)\n",
    "        \"\"\"for number in range(5):\n",
    "            trace = []\n",
    "            for i in range(n_batches):\n",
    "                trace.append(np.random.choice(sizes, p = input_distr))\n",
    "        \n",
    "            problist = {(0, 0, trace[0], 0): 1}\n",
    "            lostlist = {(0, 0, trace[0], 0): 0}\n",
    "            tracer = BaseTracer(Tin, Tres, D, PER)\n",
    "            print(\"new_by_trace\\t\", n_exper, \"\\t\", Tres, \"\\t\", tracer(W, trace, problist, lostlist, verbose=-1, report_period=50000, min_tracked_proba=1e-12), '\\t', number)\"\"\"\n",
    "        tracer = BaseTracer(Tin, Tres, D, PER)\n",
    "        statesprob = {(1, 0, 1, 0): 1}\n",
    "        stateslost = {(1, 0, 1, 0): 0}\n",
    "        statesarrived = {(1, 0, 1, 0): 0}\n",
    "        tracer.reset(trace, statesprob, stateslost, statesarrived, input_distr_dict)\n",
    "        PLR_tracer = tracer(W, verbose=-1, report_period=50000, min_tracked_proba=1e-12, time_verbose=False)\n",
    "        print(\"new_by_distr\\t\", n_exper, \"\\t\", Tres, \"\\t\", PLR_tracer)\n",
    "        \n",
    "        #old model\n",
    "        params = {}\n",
    "        params['model_name'] = 'TXOP'; params['model_type'] = 'ana';\n",
    "        params['seed'] = 1\n",
    "        params['input_distr'] = input_distr\n",
    "        params['arr_period'] = Tin;\n",
    "        params['delay_bound'] = D\n",
    "        params['res_period'] = Tres\n",
    "        params['block_size'] = 1\n",
    "        params['per'] = PER\n",
    "        vbr_ordered_model = BurstyVbrOrderedModel(params)\n",
    "        \n",
    "        print('old\\t', n_exper, '\\t', Tres, '\\t', '{}'.format(vbr_ordered_model()))\n",
    "        "
   ]
  },
  {
   "cell_type": "code",
   "execution_count": 14,
   "metadata": {},
   "outputs": [
    {
     "data": {
      "text/plain": [
       "1"
      ]
     },
     "execution_count": 14,
     "metadata": {},
     "output_type": "execute_result"
    }
   ],
   "source": [
    "len(tracer.statesprob_init)"
   ]
  },
  {
   "cell_type": "code",
   "execution_count": null,
   "metadata": {
    "collapsed": true
   },
   "outputs": [],
   "source": [
    "%%run models.ipynb"
   ]
  },
  {
   "cell_type": "code",
   "execution_count": 109,
   "metadata": {},
   "outputs": [
    {
     "data": {
      "text/plain": [
       "<matplotlib.figure.Figure at 0x20b20ecbe48>"
      ]
     },
     "metadata": {},
     "output_type": "display_data"
    }
   ],
   "source": [
    "ana_dat = pd.read_table(\"validation_results.txt\", header = None)\n",
    "ana_dat.columns = ['type', 'n_exper', 'Tres', 'PLR', 'number']\n",
    "for i in range(len(ana_dat)):\n",
    "    if ana_dat['type'][i] == \"new_by_distr\":\n",
    "        ana_dat.set_value(i, 'type', 'new')\n",
    "\n",
    "ana_new = ana_dat[ana_dat.type == 'new']\n",
    "ana_old = ana_dat[ana_dat.type == 'old']\n",
    "del ana_new['number']\n",
    "del ana_old['number']\n",
    "\n",
    "for i in range(10):\n",
    "    new_ana_plrs = ana_new[ana_new['n_exper'] == i]\n",
    "    old_ana_plrs = ana_old[ana_old['n_exper'] == i]\n",
    "    %matplotlib inline\n",
    "    plt.figure(figsize=(10, 8))\n",
    "    plt.plot(new_ana_plrs['Tres'], new_ana_plrs['PLR'], label='new ana', marker='x')\n",
    "    plt.plot(old_ana_plrs['Tres'], old_ana_plrs['PLR'], label='old ana', marker='+')\n",
    "    plt.grid()\n",
    "    plt.xlabel(r'T_{res}, ms')\n",
    "    plt.ylabel('PLR')\n",
    "    plt.title(r'PLR(T_{}), D = {}, T_{} = {}, per = {}'.format('res', D, 'arr', Tin, PER))\n",
    "    plt.xlim(10, 100)\n",
    "    plt.ylim(10e-4, 1)\n",
    "    plt.yscale('log')\n",
    "    \n",
    "    plt.savefig ('validation_graph-experiment_{}.png'.format(i), format='png', dpi=1000)\n",
    "    plt.clf()"
   ]
  },
  {
   "cell_type": "code",
   "execution_count": null,
   "metadata": {
    "collapsed": true
   },
   "outputs": [],
   "source": [
    "input_distr = np.array([ 0. ,0.19471154,  0.29567308,  0.109375  ,  0.11658654,\n",
    "        0.11418269,  0.06490385,  0.03966346,  0.02644231,  0.01802885,\n",
    "        0.00600962,  0.01442308])\n",
    "input_distr /= np.sum(input_distr)\n",
    "trace = np.random.choice(len(input_distr), 100000, p=input_distr)"
   ]
  },
  {
   "cell_type": "code",
   "execution_count": null,
   "metadata": {},
   "outputs": [],
   "source": [
    "trace = np.full(100000, 2, dtype=np.int64)"
   ]
  },
  {
   "cell_type": "code",
   "execution_count": 41,
   "metadata": {},
   "outputs": [
    {
     "name": "stdout",
     "output_type": "stream",
     "text": [
      "{(0, 1, 0): 1} {(0, 1, 0): 0}\n"
     ]
    }
   ],
   "source": [
    "PER = 0.3\n",
    "offset = 0\n",
    "D = 150\n",
    "Tres = 10\n",
    "Tin = 40\n",
    "\n",
    "n_batches = len(trace)\n",
    "problist = {(0, trace[0], 0): 1}\n",
    "lostlist = {(0, trace[0], 0): 0}\n",
    "print(problist, lostlist)"
   ]
  },
  {
   "cell_type": "code",
   "execution_count": 42,
   "metadata": {},
   "outputs": [
    {
     "name": "stdout",
     "output_type": "stream",
     "text": [
      "Anticipated number of iterations equals 672861\n"
     ]
    },
    {
     "ename": "ValueError",
     "evalue": "not enough values to unpack (expected 4, got 3)",
     "output_type": "error",
     "traceback": [
      "\u001b[0;31m---------------------------------------------------------------------------\u001b[0m",
      "\u001b[0;31mValueError\u001b[0m                                Traceback (most recent call last)",
      "\u001b[0;32m<ipython-input-42-8de85a353d28>\u001b[0m in \u001b[0;36m<module>\u001b[0;34m()\u001b[0m\n\u001b[1;32m      1\u001b[0m \u001b[0mW\u001b[0m \u001b[1;33m=\u001b[0m \u001b[0mn_batches\u001b[0m \u001b[1;33m*\u001b[0m \u001b[0mTin\u001b[0m\u001b[1;33m\u001b[0m\u001b[0m\n\u001b[1;32m      2\u001b[0m \u001b[0mtracer\u001b[0m \u001b[1;33m=\u001b[0m \u001b[0mBaseTracer\u001b[0m\u001b[1;33m(\u001b[0m\u001b[0mTin\u001b[0m\u001b[1;33m,\u001b[0m \u001b[0mTres\u001b[0m\u001b[1;33m,\u001b[0m \u001b[0mD\u001b[0m\u001b[1;33m,\u001b[0m \u001b[0mPER\u001b[0m\u001b[1;33m)\u001b[0m\u001b[1;33m\u001b[0m\u001b[0m\n\u001b[0;32m----> 3\u001b[0;31m \u001b[0mplr\u001b[0m \u001b[1;33m=\u001b[0m \u001b[0mtracer\u001b[0m\u001b[1;33m(\u001b[0m\u001b[0mW\u001b[0m\u001b[1;33m,\u001b[0m \u001b[0mtrace\u001b[0m\u001b[1;33m,\u001b[0m \u001b[0mproblist\u001b[0m\u001b[1;33m,\u001b[0m \u001b[0mlostlist\u001b[0m\u001b[1;33m,\u001b[0m \u001b[0mverbose\u001b[0m\u001b[1;33m=\u001b[0m\u001b[1;36m4\u001b[0m\u001b[1;33m,\u001b[0m \u001b[0mreport_period\u001b[0m\u001b[1;33m=\u001b[0m\u001b[1;36m50000\u001b[0m\u001b[1;33m)\u001b[0m\u001b[1;33m\u001b[0m\u001b[0m\n\u001b[0m",
      "\u001b[0;32m<ipython-input-5-1ba87942530a>\u001b[0m in \u001b[0;36m__call__\u001b[0;34m(self, W, trace, problist, lostlist, statesarrived, input_distr_dict, min_tracked_proba, verbose, report_period)\u001b[0m\n\u001b[1;32m    175\u001b[0m                 \u001b[0mlosts\u001b[0m \u001b[1;33m=\u001b[0m \u001b[0mself\u001b[0m\u001b[1;33m.\u001b[0m\u001b[0mstateslost\u001b[0m\u001b[1;33m[\u001b[0m\u001b[0mstate\u001b[0m\u001b[1;33m]\u001b[0m\u001b[1;33m\u001b[0m\u001b[0m\n\u001b[1;32m    176\u001b[0m                 \u001b[0marrived\u001b[0m \u001b[1;33m=\u001b[0m \u001b[0mself\u001b[0m\u001b[1;33m.\u001b[0m\u001b[0mstatesarrived\u001b[0m\u001b[1;33m[\u001b[0m\u001b[0mstate\u001b[0m\u001b[1;33m]\u001b[0m\u001b[1;33m\u001b[0m\u001b[0m\n\u001b[0;32m--> 177\u001b[0;31m                 \u001b[0mr\u001b[0m\u001b[1;33m,\u001b[0m \u001b[0mh\u001b[0m\u001b[1;33m,\u001b[0m \u001b[0mm\u001b[0m\u001b[1;33m,\u001b[0m \u001b[0mn\u001b[0m \u001b[1;33m=\u001b[0m \u001b[0mstate\u001b[0m\u001b[1;33m\u001b[0m\u001b[0m\n\u001b[0m\u001b[1;32m    178\u001b[0m \u001b[1;33m\u001b[0m\u001b[0m\n\u001b[1;32m    179\u001b[0m                 \u001b[1;32mif\u001b[0m \u001b[0mm\u001b[0m \u001b[1;33m==\u001b[0m \u001b[1;36m0\u001b[0m\u001b[1;33m:\u001b[0m\u001b[1;33m\u001b[0m\u001b[0m\n",
      "\u001b[0;31mValueError\u001b[0m: not enough values to unpack (expected 4, got 3)"
     ]
    }
   ],
   "source": [
    "W = n_batches * Tin\n",
    "tracer = BaseTracer(Tin, Tres, D, PER)\n",
    "plr = tracer(W, trace, problist, lostlist, verbose=4, report_period=50000)"
   ]
  },
  {
   "cell_type": "code",
   "execution_count": 43,
   "metadata": {
    "scrolled": true
   },
   "outputs": [
    {
     "name": "stdout",
     "output_type": "stream",
     "text": [
      "Anticipated number of iterations equals 140180\n"
     ]
    },
    {
     "ename": "ValueError",
     "evalue": "not enough values to unpack (expected 4, got 3)",
     "output_type": "error",
     "traceback": [
      "\u001b[0;31m---------------------------------------------------------------------------\u001b[0m",
      "\u001b[0;31mValueError\u001b[0m                                Traceback (most recent call last)",
      "\u001b[0;32m<ipython-input-43-4ab1fa7151aa>\u001b[0m in \u001b[0;36m<module>\u001b[0;34m()\u001b[0m\n\u001b[1;32m      3\u001b[0m \u001b[1;32mfor\u001b[0m \u001b[0mTres\u001b[0m \u001b[1;32min\u001b[0m \u001b[0mTres_range\u001b[0m\u001b[1;33m:\u001b[0m\u001b[1;33m\u001b[0m\u001b[0m\n\u001b[1;32m      4\u001b[0m     \u001b[0mtracer\u001b[0m \u001b[1;33m=\u001b[0m \u001b[0mBaseTracer\u001b[0m\u001b[1;33m(\u001b[0m\u001b[0mTin\u001b[0m\u001b[1;33m,\u001b[0m \u001b[0mTres\u001b[0m\u001b[1;33m,\u001b[0m \u001b[0mD\u001b[0m\u001b[1;33m,\u001b[0m \u001b[0mPER\u001b[0m\u001b[1;33m)\u001b[0m\u001b[1;33m\u001b[0m\u001b[0m\n\u001b[0;32m----> 5\u001b[0;31m     \u001b[0mplr\u001b[0m \u001b[1;33m=\u001b[0m \u001b[0mtracer\u001b[0m\u001b[1;33m(\u001b[0m\u001b[0mW\u001b[0m\u001b[1;33m,\u001b[0m \u001b[0mtrace\u001b[0m\u001b[1;33m,\u001b[0m \u001b[0mproblist\u001b[0m\u001b[1;33m,\u001b[0m \u001b[0mlostlist\u001b[0m\u001b[1;33m,\u001b[0m \u001b[0mverbose\u001b[0m\u001b[1;33m=\u001b[0m\u001b[1;36m4\u001b[0m\u001b[1;33m,\u001b[0m \u001b[0mreport_period\u001b[0m\u001b[1;33m=\u001b[0m\u001b[1;36m10000\u001b[0m\u001b[1;33m)\u001b[0m\u001b[1;33m\u001b[0m\u001b[0m\n\u001b[0m\u001b[1;32m      6\u001b[0m     \u001b[0mprint\u001b[0m\u001b[1;33m(\u001b[0m\u001b[0mTres\u001b[0m\u001b[1;33m,\u001b[0m \u001b[0mplr\u001b[0m\u001b[1;33m)\u001b[0m\u001b[1;33m\u001b[0m\u001b[0m\n\u001b[1;32m      7\u001b[0m     \u001b[0mplrs\u001b[0m\u001b[1;33m.\u001b[0m\u001b[0mappend\u001b[0m\u001b[1;33m(\u001b[0m\u001b[0mplr\u001b[0m\u001b[1;33m)\u001b[0m\u001b[1;33m\u001b[0m\u001b[0m\n",
      "\u001b[0;32m<ipython-input-5-1ba87942530a>\u001b[0m in \u001b[0;36m__call__\u001b[0;34m(self, W, trace, problist, lostlist, statesarrived, input_distr_dict, min_tracked_proba, verbose, report_period)\u001b[0m\n\u001b[1;32m    175\u001b[0m                 \u001b[0mlosts\u001b[0m \u001b[1;33m=\u001b[0m \u001b[0mself\u001b[0m\u001b[1;33m.\u001b[0m\u001b[0mstateslost\u001b[0m\u001b[1;33m[\u001b[0m\u001b[0mstate\u001b[0m\u001b[1;33m]\u001b[0m\u001b[1;33m\u001b[0m\u001b[0m\n\u001b[1;32m    176\u001b[0m                 \u001b[0marrived\u001b[0m \u001b[1;33m=\u001b[0m \u001b[0mself\u001b[0m\u001b[1;33m.\u001b[0m\u001b[0mstatesarrived\u001b[0m\u001b[1;33m[\u001b[0m\u001b[0mstate\u001b[0m\u001b[1;33m]\u001b[0m\u001b[1;33m\u001b[0m\u001b[0m\n\u001b[0;32m--> 177\u001b[0;31m                 \u001b[0mr\u001b[0m\u001b[1;33m,\u001b[0m \u001b[0mh\u001b[0m\u001b[1;33m,\u001b[0m \u001b[0mm\u001b[0m\u001b[1;33m,\u001b[0m \u001b[0mn\u001b[0m \u001b[1;33m=\u001b[0m \u001b[0mstate\u001b[0m\u001b[1;33m\u001b[0m\u001b[0m\n\u001b[0m\u001b[1;32m    178\u001b[0m \u001b[1;33m\u001b[0m\u001b[0m\n\u001b[1;32m    179\u001b[0m                 \u001b[1;32mif\u001b[0m \u001b[0mm\u001b[0m \u001b[1;33m==\u001b[0m \u001b[1;36m0\u001b[0m\u001b[1;33m:\u001b[0m\u001b[1;33m\u001b[0m\u001b[0m\n",
      "\u001b[0;31mValueError\u001b[0m: not enough values to unpack (expected 4, got 3)"
     ]
    }
   ],
   "source": [
    "Tres_range = list(range(48, 51, 2))\n",
    "plrs = []\n",
    "for Tres in Tres_range:\n",
    "    tracer = BaseTracer(Tin, Tres, D, PER)\n",
    "    plr = tracer(W, trace, problist, lostlist, verbose=4, report_period=10000)\n",
    "    print(Tres, plr)\n",
    "    plrs.append(plr)"
   ]
  },
  {
   "cell_type": "markdown",
   "metadata": {},
   "source": [
    "<a id='ana_test_trace'></a>\n",
    "### 1.2.3 Trace<sup>[toc](#toc)</sup>"
   ]
  },
  {
   "cell_type": "code",
   "execution_count": 44,
   "metadata": {},
   "outputs": [
    {
     "ename": "FileNotFoundError",
     "evalue": "File b'South/South.batch.dat' does not exist",
     "output_type": "error",
     "traceback": [
      "\u001b[0;31m---------------------------------------------------------------------------\u001b[0m",
      "\u001b[0;31mFileNotFoundError\u001b[0m                         Traceback (most recent call last)",
      "\u001b[0;32m<ipython-input-44-3bb44d7f20df>\u001b[0m in \u001b[0;36m<module>\u001b[0;34m()\u001b[0m\n\u001b[1;32m      4\u001b[0m \u001b[0mTres\u001b[0m \u001b[1;33m=\u001b[0m \u001b[1;36m48\u001b[0m\u001b[1;33m\u001b[0m\u001b[0m\n\u001b[1;32m      5\u001b[0m \u001b[0mTin\u001b[0m \u001b[1;33m=\u001b[0m \u001b[1;36m480\u001b[0m\u001b[1;33m\u001b[0m\u001b[0m\n\u001b[0;32m----> 6\u001b[0;31m \u001b[0mtrace\u001b[0m \u001b[1;33m=\u001b[0m \u001b[0mpd\u001b[0m\u001b[1;33m.\u001b[0m\u001b[0mread_csv\u001b[0m\u001b[1;33m(\u001b[0m\u001b[1;34m'South/South.batch.dat'\u001b[0m\u001b[1;33m,\u001b[0m \u001b[0mheader\u001b[0m\u001b[1;33m=\u001b[0m\u001b[1;32mNone\u001b[0m\u001b[1;33m)\u001b[0m\u001b[1;33m.\u001b[0m\u001b[0mvalues\u001b[0m\u001b[1;33m.\u001b[0m\u001b[0mflatten\u001b[0m\u001b[1;33m(\u001b[0m\u001b[1;33m)\u001b[0m\u001b[1;33m\u001b[0m\u001b[0m\n\u001b[0m\u001b[1;32m      7\u001b[0m \u001b[0mtracer\u001b[0m \u001b[1;33m=\u001b[0m \u001b[0mBaseTracer\u001b[0m\u001b[1;33m(\u001b[0m\u001b[0mTin\u001b[0m\u001b[1;33m,\u001b[0m \u001b[0mTres\u001b[0m\u001b[1;33m,\u001b[0m \u001b[0mD\u001b[0m\u001b[1;33m,\u001b[0m \u001b[0mPER\u001b[0m\u001b[1;33m)\u001b[0m\u001b[1;33m\u001b[0m\u001b[0m\n\u001b[1;32m      8\u001b[0m \u001b[1;33m\u001b[0m\u001b[0m\n",
      "\u001b[0;32mC:\\Program Files\\Anaconda\\lib\\site-packages\\pandas\\io\\parsers.py\u001b[0m in \u001b[0;36mparser_f\u001b[0;34m(filepath_or_buffer, sep, delimiter, header, names, index_col, usecols, squeeze, prefix, mangle_dupe_cols, dtype, engine, converters, true_values, false_values, skipinitialspace, skiprows, nrows, na_values, keep_default_na, na_filter, verbose, skip_blank_lines, parse_dates, infer_datetime_format, keep_date_col, date_parser, dayfirst, iterator, chunksize, compression, thousands, decimal, lineterminator, quotechar, quoting, escapechar, comment, encoding, dialect, tupleize_cols, error_bad_lines, warn_bad_lines, skipfooter, skip_footer, doublequote, delim_whitespace, as_recarray, compact_ints, use_unsigned, low_memory, buffer_lines, memory_map, float_precision)\u001b[0m\n\u001b[1;32m    644\u001b[0m                     skip_blank_lines=skip_blank_lines)\n\u001b[1;32m    645\u001b[0m \u001b[1;33m\u001b[0m\u001b[0m\n\u001b[0;32m--> 646\u001b[0;31m         \u001b[1;32mreturn\u001b[0m \u001b[0m_read\u001b[0m\u001b[1;33m(\u001b[0m\u001b[0mfilepath_or_buffer\u001b[0m\u001b[1;33m,\u001b[0m \u001b[0mkwds\u001b[0m\u001b[1;33m)\u001b[0m\u001b[1;33m\u001b[0m\u001b[0m\n\u001b[0m\u001b[1;32m    647\u001b[0m \u001b[1;33m\u001b[0m\u001b[0m\n\u001b[1;32m    648\u001b[0m     \u001b[0mparser_f\u001b[0m\u001b[1;33m.\u001b[0m\u001b[0m__name__\u001b[0m \u001b[1;33m=\u001b[0m \u001b[0mname\u001b[0m\u001b[1;33m\u001b[0m\u001b[0m\n",
      "\u001b[0;32mC:\\Program Files\\Anaconda\\lib\\site-packages\\pandas\\io\\parsers.py\u001b[0m in \u001b[0;36m_read\u001b[0;34m(filepath_or_buffer, kwds)\u001b[0m\n\u001b[1;32m    387\u001b[0m \u001b[1;33m\u001b[0m\u001b[0m\n\u001b[1;32m    388\u001b[0m     \u001b[1;31m# Create the parser.\u001b[0m\u001b[1;33m\u001b[0m\u001b[1;33m\u001b[0m\u001b[0m\n\u001b[0;32m--> 389\u001b[0;31m     \u001b[0mparser\u001b[0m \u001b[1;33m=\u001b[0m \u001b[0mTextFileReader\u001b[0m\u001b[1;33m(\u001b[0m\u001b[0mfilepath_or_buffer\u001b[0m\u001b[1;33m,\u001b[0m \u001b[1;33m**\u001b[0m\u001b[0mkwds\u001b[0m\u001b[1;33m)\u001b[0m\u001b[1;33m\u001b[0m\u001b[0m\n\u001b[0m\u001b[1;32m    390\u001b[0m \u001b[1;33m\u001b[0m\u001b[0m\n\u001b[1;32m    391\u001b[0m     \u001b[1;32mif\u001b[0m \u001b[1;33m(\u001b[0m\u001b[0mnrows\u001b[0m \u001b[1;32mis\u001b[0m \u001b[1;32mnot\u001b[0m \u001b[1;32mNone\u001b[0m\u001b[1;33m)\u001b[0m \u001b[1;32mand\u001b[0m \u001b[1;33m(\u001b[0m\u001b[0mchunksize\u001b[0m \u001b[1;32mis\u001b[0m \u001b[1;32mnot\u001b[0m \u001b[1;32mNone\u001b[0m\u001b[1;33m)\u001b[0m\u001b[1;33m:\u001b[0m\u001b[1;33m\u001b[0m\u001b[0m\n",
      "\u001b[0;32mC:\\Program Files\\Anaconda\\lib\\site-packages\\pandas\\io\\parsers.py\u001b[0m in \u001b[0;36m__init__\u001b[0;34m(self, f, engine, **kwds)\u001b[0m\n\u001b[1;32m    728\u001b[0m             \u001b[0mself\u001b[0m\u001b[1;33m.\u001b[0m\u001b[0moptions\u001b[0m\u001b[1;33m[\u001b[0m\u001b[1;34m'has_index_names'\u001b[0m\u001b[1;33m]\u001b[0m \u001b[1;33m=\u001b[0m \u001b[0mkwds\u001b[0m\u001b[1;33m[\u001b[0m\u001b[1;34m'has_index_names'\u001b[0m\u001b[1;33m]\u001b[0m\u001b[1;33m\u001b[0m\u001b[0m\n\u001b[1;32m    729\u001b[0m \u001b[1;33m\u001b[0m\u001b[0m\n\u001b[0;32m--> 730\u001b[0;31m         \u001b[0mself\u001b[0m\u001b[1;33m.\u001b[0m\u001b[0m_make_engine\u001b[0m\u001b[1;33m(\u001b[0m\u001b[0mself\u001b[0m\u001b[1;33m.\u001b[0m\u001b[0mengine\u001b[0m\u001b[1;33m)\u001b[0m\u001b[1;33m\u001b[0m\u001b[0m\n\u001b[0m\u001b[1;32m    731\u001b[0m \u001b[1;33m\u001b[0m\u001b[0m\n\u001b[1;32m    732\u001b[0m     \u001b[1;32mdef\u001b[0m \u001b[0mclose\u001b[0m\u001b[1;33m(\u001b[0m\u001b[0mself\u001b[0m\u001b[1;33m)\u001b[0m\u001b[1;33m:\u001b[0m\u001b[1;33m\u001b[0m\u001b[0m\n",
      "\u001b[0;32mC:\\Program Files\\Anaconda\\lib\\site-packages\\pandas\\io\\parsers.py\u001b[0m in \u001b[0;36m_make_engine\u001b[0;34m(self, engine)\u001b[0m\n\u001b[1;32m    921\u001b[0m     \u001b[1;32mdef\u001b[0m \u001b[0m_make_engine\u001b[0m\u001b[1;33m(\u001b[0m\u001b[0mself\u001b[0m\u001b[1;33m,\u001b[0m \u001b[0mengine\u001b[0m\u001b[1;33m=\u001b[0m\u001b[1;34m'c'\u001b[0m\u001b[1;33m)\u001b[0m\u001b[1;33m:\u001b[0m\u001b[1;33m\u001b[0m\u001b[0m\n\u001b[1;32m    922\u001b[0m         \u001b[1;32mif\u001b[0m \u001b[0mengine\u001b[0m \u001b[1;33m==\u001b[0m \u001b[1;34m'c'\u001b[0m\u001b[1;33m:\u001b[0m\u001b[1;33m\u001b[0m\u001b[0m\n\u001b[0;32m--> 923\u001b[0;31m             \u001b[0mself\u001b[0m\u001b[1;33m.\u001b[0m\u001b[0m_engine\u001b[0m \u001b[1;33m=\u001b[0m \u001b[0mCParserWrapper\u001b[0m\u001b[1;33m(\u001b[0m\u001b[0mself\u001b[0m\u001b[1;33m.\u001b[0m\u001b[0mf\u001b[0m\u001b[1;33m,\u001b[0m \u001b[1;33m**\u001b[0m\u001b[0mself\u001b[0m\u001b[1;33m.\u001b[0m\u001b[0moptions\u001b[0m\u001b[1;33m)\u001b[0m\u001b[1;33m\u001b[0m\u001b[0m\n\u001b[0m\u001b[1;32m    924\u001b[0m         \u001b[1;32melse\u001b[0m\u001b[1;33m:\u001b[0m\u001b[1;33m\u001b[0m\u001b[0m\n\u001b[1;32m    925\u001b[0m             \u001b[1;32mif\u001b[0m \u001b[0mengine\u001b[0m \u001b[1;33m==\u001b[0m \u001b[1;34m'python'\u001b[0m\u001b[1;33m:\u001b[0m\u001b[1;33m\u001b[0m\u001b[0m\n",
      "\u001b[0;32mC:\\Program Files\\Anaconda\\lib\\site-packages\\pandas\\io\\parsers.py\u001b[0m in \u001b[0;36m__init__\u001b[0;34m(self, src, **kwds)\u001b[0m\n\u001b[1;32m   1388\u001b[0m         \u001b[0mkwds\u001b[0m\u001b[1;33m[\u001b[0m\u001b[1;34m'allow_leading_cols'\u001b[0m\u001b[1;33m]\u001b[0m \u001b[1;33m=\u001b[0m \u001b[0mself\u001b[0m\u001b[1;33m.\u001b[0m\u001b[0mindex_col\u001b[0m \u001b[1;32mis\u001b[0m \u001b[1;32mnot\u001b[0m \u001b[1;32mFalse\u001b[0m\u001b[1;33m\u001b[0m\u001b[0m\n\u001b[1;32m   1389\u001b[0m \u001b[1;33m\u001b[0m\u001b[0m\n\u001b[0;32m-> 1390\u001b[0;31m         \u001b[0mself\u001b[0m\u001b[1;33m.\u001b[0m\u001b[0m_reader\u001b[0m \u001b[1;33m=\u001b[0m \u001b[0m_parser\u001b[0m\u001b[1;33m.\u001b[0m\u001b[0mTextReader\u001b[0m\u001b[1;33m(\u001b[0m\u001b[0msrc\u001b[0m\u001b[1;33m,\u001b[0m \u001b[1;33m**\u001b[0m\u001b[0mkwds\u001b[0m\u001b[1;33m)\u001b[0m\u001b[1;33m\u001b[0m\u001b[0m\n\u001b[0m\u001b[1;32m   1391\u001b[0m \u001b[1;33m\u001b[0m\u001b[0m\n\u001b[1;32m   1392\u001b[0m         \u001b[1;31m# XXX\u001b[0m\u001b[1;33m\u001b[0m\u001b[1;33m\u001b[0m\u001b[0m\n",
      "\u001b[0;32mpandas\\parser.pyx\u001b[0m in \u001b[0;36mpandas.parser.TextReader.__cinit__ (pandas\\parser.c:4184)\u001b[0;34m()\u001b[0m\n",
      "\u001b[0;32mpandas\\parser.pyx\u001b[0m in \u001b[0;36mpandas.parser.TextReader._setup_parser_source (pandas\\parser.c:8449)\u001b[0;34m()\u001b[0m\n",
      "\u001b[0;31mFileNotFoundError\u001b[0m: File b'South/South.batch.dat' does not exist"
     ]
    }
   ],
   "source": [
    "PER = 0.3\n",
    "offset = 0\n",
    "D = 1200\n",
    "Tres = 48\n",
    "Tin = 480\n",
    "trace = pd.read_csv('South/South.batch.dat', header=None).values.flatten()\n",
    "tracer = BaseTracer(Tin, Tres, D, PER)\n",
    "\n",
    "n_batches = len(trace)\n",
    "problist = {(0, trace[0], 0): 1}\n",
    "lostlist = {(0, trace[0], 0): 0}"
   ]
  },
  {
   "cell_type": "code",
   "execution_count": 45,
   "metadata": {},
   "outputs": [
    {
     "name": "stdout",
     "output_type": "stream",
     "text": [
      "Anticipated number of iterations equals 1682151\n"
     ]
    },
    {
     "ename": "ValueError",
     "evalue": "not enough values to unpack (expected 4, got 3)",
     "output_type": "error",
     "traceback": [
      "\u001b[0;31m---------------------------------------------------------------------------\u001b[0m",
      "\u001b[0;31mValueError\u001b[0m                                Traceback (most recent call last)",
      "\u001b[0;32m<ipython-input-45-8de85a353d28>\u001b[0m in \u001b[0;36m<module>\u001b[0;34m()\u001b[0m\n\u001b[1;32m      1\u001b[0m \u001b[0mW\u001b[0m \u001b[1;33m=\u001b[0m \u001b[0mn_batches\u001b[0m \u001b[1;33m*\u001b[0m \u001b[0mTin\u001b[0m\u001b[1;33m\u001b[0m\u001b[0m\n\u001b[1;32m      2\u001b[0m \u001b[0mtracer\u001b[0m \u001b[1;33m=\u001b[0m \u001b[0mBaseTracer\u001b[0m\u001b[1;33m(\u001b[0m\u001b[0mTin\u001b[0m\u001b[1;33m,\u001b[0m \u001b[0mTres\u001b[0m\u001b[1;33m,\u001b[0m \u001b[0mD\u001b[0m\u001b[1;33m,\u001b[0m \u001b[0mPER\u001b[0m\u001b[1;33m)\u001b[0m\u001b[1;33m\u001b[0m\u001b[0m\n\u001b[0;32m----> 3\u001b[0;31m \u001b[0mplr\u001b[0m \u001b[1;33m=\u001b[0m \u001b[0mtracer\u001b[0m\u001b[1;33m(\u001b[0m\u001b[0mW\u001b[0m\u001b[1;33m,\u001b[0m \u001b[0mtrace\u001b[0m\u001b[1;33m,\u001b[0m \u001b[0mproblist\u001b[0m\u001b[1;33m,\u001b[0m \u001b[0mlostlist\u001b[0m\u001b[1;33m,\u001b[0m \u001b[0mverbose\u001b[0m\u001b[1;33m=\u001b[0m\u001b[1;36m4\u001b[0m\u001b[1;33m,\u001b[0m \u001b[0mreport_period\u001b[0m\u001b[1;33m=\u001b[0m\u001b[1;36m50000\u001b[0m\u001b[1;33m)\u001b[0m\u001b[1;33m\u001b[0m\u001b[0m\n\u001b[0m",
      "\u001b[0;32m<ipython-input-5-1ba87942530a>\u001b[0m in \u001b[0;36m__call__\u001b[0;34m(self, W, trace, problist, lostlist, statesarrived, input_distr_dict, min_tracked_proba, verbose, report_period)\u001b[0m\n\u001b[1;32m    175\u001b[0m                 \u001b[0mlosts\u001b[0m \u001b[1;33m=\u001b[0m \u001b[0mself\u001b[0m\u001b[1;33m.\u001b[0m\u001b[0mstateslost\u001b[0m\u001b[1;33m[\u001b[0m\u001b[0mstate\u001b[0m\u001b[1;33m]\u001b[0m\u001b[1;33m\u001b[0m\u001b[0m\n\u001b[1;32m    176\u001b[0m                 \u001b[0marrived\u001b[0m \u001b[1;33m=\u001b[0m \u001b[0mself\u001b[0m\u001b[1;33m.\u001b[0m\u001b[0mstatesarrived\u001b[0m\u001b[1;33m[\u001b[0m\u001b[0mstate\u001b[0m\u001b[1;33m]\u001b[0m\u001b[1;33m\u001b[0m\u001b[0m\n\u001b[0;32m--> 177\u001b[0;31m                 \u001b[0mr\u001b[0m\u001b[1;33m,\u001b[0m \u001b[0mh\u001b[0m\u001b[1;33m,\u001b[0m \u001b[0mm\u001b[0m\u001b[1;33m,\u001b[0m \u001b[0mn\u001b[0m \u001b[1;33m=\u001b[0m \u001b[0mstate\u001b[0m\u001b[1;33m\u001b[0m\u001b[0m\n\u001b[0m\u001b[1;32m    178\u001b[0m \u001b[1;33m\u001b[0m\u001b[0m\n\u001b[1;32m    179\u001b[0m                 \u001b[1;32mif\u001b[0m \u001b[0mm\u001b[0m \u001b[1;33m==\u001b[0m \u001b[1;36m0\u001b[0m\u001b[1;33m:\u001b[0m\u001b[1;33m\u001b[0m\u001b[0m\n",
      "\u001b[0;31mValueError\u001b[0m: not enough values to unpack (expected 4, got 3)"
     ]
    }
   ],
   "source": [
    "W = n_batches * Tin\n",
    "tracer = BaseTracer(Tin, Tres, D, PER)\n",
    "plr = tracer(W, trace, problist, lostlist, verbose=4, report_period=50000)"
   ]
  },
  {
   "cell_type": "markdown",
   "metadata": {},
   "source": [
    "## 3. Разбиение на окна"
   ]
  },
  {
   "cell_type": "code",
   "execution_count": 46,
   "metadata": {
    "collapsed": true
   },
   "outputs": [],
   "source": [
    "input_distr = np.array([ 0. ,0.19471154,  0.29567308,  0.109375  ,  0.11658654,\n",
    "        0.11418269,  0.06490385,  0.03966346,  0.02644231,  0.01802885,\n",
    "        0.00600962,  0.01442308])\n",
    "input_distr /= np.sum(input_distr)\n",
    "trace = np.random.choice(len(input_distr), 100000, p=input_distr)"
   ]
  },
  {
   "cell_type": "code",
   "execution_count": 47,
   "metadata": {
    "collapsed": true
   },
   "outputs": [],
   "source": [
    "trace = np.full(100000, 2, dtype=np.int64)"
   ]
  },
  {
   "cell_type": "code",
   "execution_count": 48,
   "metadata": {},
   "outputs": [
    {
     "name": "stdout",
     "output_type": "stream",
     "text": [
      "{(0, 2, 0): 1} {(0, 2, 0): 0}\n"
     ]
    }
   ],
   "source": [
    "PER = 0.3\n",
    "offset = 0\n",
    "D = 150\n",
    "Tres = 10\n",
    "Tin = 40\n",
    "\n",
    "n_batches = len(trace)\n",
    "problist = {(0, trace[0], 0): 1}\n",
    "lostlist = {(0, trace[0], 0): 0}\n",
    "print(problist, lostlist)"
   ]
  },
  {
   "cell_type": "markdown",
   "metadata": {},
   "source": [
    "#### Одно окно"
   ]
  },
  {
   "cell_type": "code",
   "execution_count": 49,
   "metadata": {},
   "outputs": [
    {
     "name": "stdout",
     "output_type": "stream",
     "text": [
      "Anticipated number of iterations equals 4001\n"
     ]
    },
    {
     "ename": "ValueError",
     "evalue": "not enough values to unpack (expected 4, got 3)",
     "output_type": "error",
     "traceback": [
      "\u001b[0;31m---------------------------------------------------------------------------\u001b[0m",
      "\u001b[0;31mValueError\u001b[0m                                Traceback (most recent call last)",
      "\u001b[0;32m<ipython-input-49-2d3652afd551>\u001b[0m in \u001b[0;36m<module>\u001b[0;34m()\u001b[0m\n\u001b[1;32m      1\u001b[0m \u001b[0mW\u001b[0m \u001b[1;33m=\u001b[0m \u001b[1;36m1000\u001b[0m \u001b[1;33m*\u001b[0m \u001b[0mTin\u001b[0m\u001b[1;33m\u001b[0m\u001b[0m\n\u001b[1;32m      2\u001b[0m \u001b[0mtracer\u001b[0m \u001b[1;33m=\u001b[0m \u001b[0mBaseTracer\u001b[0m\u001b[1;33m(\u001b[0m\u001b[0mTin\u001b[0m\u001b[1;33m,\u001b[0m \u001b[0mTres\u001b[0m\u001b[1;33m,\u001b[0m \u001b[0mD\u001b[0m\u001b[1;33m,\u001b[0m \u001b[0mPER\u001b[0m\u001b[1;33m)\u001b[0m\u001b[1;33m\u001b[0m\u001b[0m\n\u001b[0;32m----> 3\u001b[0;31m \u001b[0mplr\u001b[0m \u001b[1;33m=\u001b[0m \u001b[0mtracer\u001b[0m\u001b[1;33m(\u001b[0m\u001b[0mW\u001b[0m\u001b[1;33m,\u001b[0m \u001b[0mtrace\u001b[0m\u001b[1;33m,\u001b[0m \u001b[0mproblist\u001b[0m\u001b[1;33m,\u001b[0m \u001b[0mlostlist\u001b[0m\u001b[1;33m,\u001b[0m \u001b[0mverbose\u001b[0m\u001b[1;33m=\u001b[0m\u001b[1;36m4\u001b[0m\u001b[1;33m,\u001b[0m \u001b[0mreport_period\u001b[0m\u001b[1;33m=\u001b[0m\u001b[1;36m50000\u001b[0m\u001b[1;33m)\u001b[0m\u001b[1;33m\u001b[0m\u001b[0m\n\u001b[0m\u001b[1;32m      4\u001b[0m \u001b[0mprint\u001b[0m\u001b[1;33m(\u001b[0m\u001b[0mTres\u001b[0m\u001b[1;33m,\u001b[0m \u001b[0mplr\u001b[0m\u001b[1;33m,\u001b[0m \u001b[0mtracer\u001b[0m\u001b[1;33m.\u001b[0m\u001b[0mn_iters\u001b[0m\u001b[1;33m)\u001b[0m\u001b[1;33m\u001b[0m\u001b[0m\n\u001b[1;32m      5\u001b[0m \u001b[0mprint\u001b[0m\u001b[1;33m(\u001b[0m\u001b[1;34m'\\nprobas:'\u001b[0m\u001b[1;33m)\u001b[0m\u001b[1;33m\u001b[0m\u001b[0m\n",
      "\u001b[0;32m<ipython-input-5-1ba87942530a>\u001b[0m in \u001b[0;36m__call__\u001b[0;34m(self, W, trace, problist, lostlist, statesarrived, input_distr_dict, min_tracked_proba, verbose, report_period)\u001b[0m\n\u001b[1;32m    175\u001b[0m                 \u001b[0mlosts\u001b[0m \u001b[1;33m=\u001b[0m \u001b[0mself\u001b[0m\u001b[1;33m.\u001b[0m\u001b[0mstateslost\u001b[0m\u001b[1;33m[\u001b[0m\u001b[0mstate\u001b[0m\u001b[1;33m]\u001b[0m\u001b[1;33m\u001b[0m\u001b[0m\n\u001b[1;32m    176\u001b[0m                 \u001b[0marrived\u001b[0m \u001b[1;33m=\u001b[0m \u001b[0mself\u001b[0m\u001b[1;33m.\u001b[0m\u001b[0mstatesarrived\u001b[0m\u001b[1;33m[\u001b[0m\u001b[0mstate\u001b[0m\u001b[1;33m]\u001b[0m\u001b[1;33m\u001b[0m\u001b[0m\n\u001b[0;32m--> 177\u001b[0;31m                 \u001b[0mr\u001b[0m\u001b[1;33m,\u001b[0m \u001b[0mh\u001b[0m\u001b[1;33m,\u001b[0m \u001b[0mm\u001b[0m\u001b[1;33m,\u001b[0m \u001b[0mn\u001b[0m \u001b[1;33m=\u001b[0m \u001b[0mstate\u001b[0m\u001b[1;33m\u001b[0m\u001b[0m\n\u001b[0m\u001b[1;32m    178\u001b[0m \u001b[1;33m\u001b[0m\u001b[0m\n\u001b[1;32m    179\u001b[0m                 \u001b[1;32mif\u001b[0m \u001b[0mm\u001b[0m \u001b[1;33m==\u001b[0m \u001b[1;36m0\u001b[0m\u001b[1;33m:\u001b[0m\u001b[1;33m\u001b[0m\u001b[0m\n",
      "\u001b[0;31mValueError\u001b[0m: not enough values to unpack (expected 4, got 3)"
     ]
    }
   ],
   "source": [
    "W = 1000 * Tin\n",
    "tracer = BaseTracer(Tin, Tres, D, PER)\n",
    "plr = tracer(W, trace, problist, lostlist, verbose=4, report_period=50000)\n",
    "print(Tres, plr, tracer.n_iters)\n",
    "print('\\nprobas:')\n",
    "tracer.print_probas()\n",
    "print('\\narrived:')\n",
    "tracer.print_arrived()\n",
    "print('\\nlosts:')\n",
    "tracer.print_losts()"
   ]
  },
  {
   "cell_type": "markdown",
   "metadata": {},
   "source": [
    "#### Два окна"
   ]
  },
  {
   "cell_type": "code",
   "execution_count": 361,
   "metadata": {},
   "outputs": [
    {
     "name": "stdout",
     "output_type": "stream",
     "text": [
      "Anticipated number of iterations equals 800\n",
      "Anticipated number of iterations equals 3200\n",
      "10 0.187517621554 4000\n",
      "\n",
      "probas:\n",
      "\t (0, 2, 1000) 0.028616400998062782\n",
      "\t (40, 1, 999) 0.08087900323710571\n",
      "\t (40, 2, 999) 0.17199660433839678\n",
      "\t (80, 1, 998) 0.23592354259917495\n",
      "\t (80, 2, 998) 0.22318118225024444\n",
      "\t (80, 3, 998) 0.15310503387851082\n",
      "\t (120, 1, 997) 0.07580753270296194\n",
      "\t (120, 2, 997) 0.025187362910672608\n",
      "\t (120, 3, 997) 0.00530333708486993\n",
      "\n",
      "arrived:\n",
      "\t (0, 2, 1000) 3399.0\n",
      "\t (40, 1, 999) 3397.0\n",
      "\t (40, 2, 999) 3397.0\n",
      "\t (80, 1, 998) 3395.0\n",
      "\t (80, 2, 998) 3395.0\n",
      "\t (80, 3, 998) 3395.0\n",
      "\t (120, 1, 997) 3392.0\n",
      "\t (120, 2, 997) 3392.0\n",
      "\t (120, 3, 997) 3392.0\n",
      "\n",
      "losts:\n",
      "\t (0, 2, 1000) 634.341514036\n",
      "\t (40, 1, 999) 636.169227793\n",
      "\t (40, 2, 999) 636.572449884\n",
      "\t (80, 1, 998) 636.746671147\n",
      "\t (80, 2, 998) 636.841264401\n",
      "\t (80, 3, 998) 636.918627962\n",
      "\t (120, 1, 997) 636.998929044\n",
      "\t (120, 2, 997) 637.075895609\n",
      "\t (120, 3, 997) 637.222383788\n"
     ]
    }
   ],
   "source": [
    "W1 = 200 * Tin\n",
    "\n",
    "def split_window(W, W1, Tin, Tres):\n",
    "    assert W > W1\n",
    "    Nres = int(np.ceil(W / Tres))\n",
    "    Nres1 = int(np.ceil(W1 / Tres))\n",
    "    Nres2 = Nres - Nres1\n",
    "    W2 = Nres2 * Tres\n",
    "    return W2\n",
    "\n",
    "W2 = split_window(W, W1, Tin, Tres)\n",
    "\n",
    "tracer = BaseTracer(Tin, Tres, D, PER)\n",
    "plr1 = tracer(W1, trace, problist, lostlist, verbose=4, report_period=50000)\n",
    "plr2 = tracer(W2, trace, verbose=4, report_period=50000)\n",
    "\n",
    "print(Tres, plr2, tracer.n_iters)\n",
    "print('\\nprobas:')\n",
    "tracer.print_probas()\n",
    "print('\\narrived:')\n",
    "tracer.print_arrived()\n",
    "print('\\nlosts:')\n",
    "tracer.print_losts()"
   ]
  },
  {
   "cell_type": "markdown",
   "metadata": {},
   "source": [
    "## 4. Смена Tres"
   ]
  },
  {
   "cell_type": "code",
   "execution_count": 363,
   "metadata": {
    "collapsed": true
   },
   "outputs": [],
   "source": [
    "input_distr = np.array([ 0. ,0.19471154,  0.29567308,  0.109375  ,  0.11658654,\n",
    "        0.11418269,  0.06490385,  0.03966346,  0.02644231,  0.01802885,\n",
    "        0.00600962,  0.01442308])\n",
    "input_distr /= np.sum(input_distr)\n",
    "trace = np.random.choice(len(input_distr), 100000, p=input_distr)"
   ]
  },
  {
   "cell_type": "code",
   "execution_count": 375,
   "metadata": {},
   "outputs": [
    {
     "name": "stdout",
     "output_type": "stream",
     "text": [
      "{(0, 2, 0): 1} {(0, 2, 0): 0}\n"
     ]
    }
   ],
   "source": [
    "PER = 0.3\n",
    "offset = 0\n",
    "D = 1500\n",
    "Tres = 100\n",
    "Tin = 400\n",
    "\n",
    "n_batches = len(trace)\n",
    "problist = {(0, trace[0], 0): 1}\n",
    "lostlist = {(0, trace[0], 0): 0}\n",
    "print(problist, lostlist)"
   ]
  },
  {
   "cell_type": "code",
   "execution_count": 376,
   "metadata": {
    "collapsed": true
   },
   "outputs": [],
   "source": [
    "W = 1000 * Tin # Размер рассматриваемого участка"
   ]
  },
  {
   "cell_type": "code",
   "execution_count": 389,
   "metadata": {},
   "outputs": [
    {
     "name": "stdout",
     "output_type": "stream",
     "text": [
      "Anticipated number of iterations equals 2000\n",
      "Tres = 100, plr = 0.18385915991950633, n_iters = 2000\n"
     ]
    }
   ],
   "source": [
    "Tres = 100\n",
    "W1 = 500 * Tin\n",
    "\n",
    "def split_window(W, W1, Tin, Tres):\n",
    "    assert W > W1\n",
    "    Nres = int(np.ceil(W / Tres))\n",
    "    Nres1 = int(np.ceil(W1 / Tres))\n",
    "    Nres2 = Nres - Nres1\n",
    "    W2 = Nres2 * Tres\n",
    "    return W2\n",
    "\n",
    "W2 = split_window(W, W1, Tin, Tres)\n",
    "tracer = BaseTracer(Tin, Tres, D, PER)\n",
    "plr1 = tracer(W1, trace, problist, lostlist, verbose=4, report_period=50000)\n",
    "print('Tres = {}, plr = {}, n_iters = {}'.format(Tres, plr1, tracer.n_iters))"
   ]
  },
  {
   "cell_type": "markdown",
   "metadata": {},
   "source": [
    "Видно, что все плохо. Понизим Tres."
   ]
  },
  {
   "cell_type": "code",
   "execution_count": 390,
   "metadata": {},
   "outputs": [
    {
     "name": "stdout",
     "output_type": "stream",
     "text": [
      "Anticipated number of iterations equals 5000\n",
      "Tres = 40, plr = 0.0002801069300835106, n_iters = 7000\n"
     ]
    }
   ],
   "source": [
    "Tres = 40\n",
    "tracer.set_Tres(Tres)\n",
    "\n",
    "plr2 = tracer(W2, trace, \n",
    "              lostlist=Counter(),       # Важно сбросить статистику по потерям\n",
    "              statesarrived=Counter(),  # и прибытию пачек\n",
    "              verbose=4, report_period=50000)\n",
    "print('Tres = {}, plr = {}, n_iters = {}'.format(Tres, plr2, tracer.n_iters))"
   ]
  },
  {
   "cell_type": "markdown",
   "metadata": {
    "collapsed": true
   },
   "source": [
    "<a id='sim'></a>\n",
    "# 2. Simulation model<sup>[toc](#toc)</sup>"
   ]
  },
  {
   "cell_type": "code",
   "execution_count": 367,
   "metadata": {
    "collapsed": true
   },
   "outputs": [],
   "source": [
    "class SimulationModel(Checker):\n",
    "    def __init__(self, arr_period, delay_bound, res_period, per, \n",
    "                 offset, size, seed,\n",
    "                 directory, \n",
    "                 batch_filename,\n",
    "                 model_filename='./imm2.out',\n",
    "                 res_periods_filename=\"\"):\n",
    "        \"\"\"\n",
    "        :param arr_period\n",
    "        :type arr_period\n",
    "        \n",
    "        :param delay_bound\n",
    "        :type delay_bound\n",
    "        \n",
    "        :param res_period\n",
    "        :type res_period\n",
    "        \n",
    "        :param per\n",
    "        :type per\n",
    "        \n",
    "        :param batch_filename\n",
    "        :type batch_filename\n",
    "        \n",
    "        :param model_path\n",
    "        :type model_path\n",
    "        \"\"\"\n",
    "        self.arr_period = arr_period\n",
    "        self.delay_bound = delay_bound\n",
    "        self.res_period = res_period\n",
    "        self.per = per\n",
    "        self.offset = offset\n",
    "        self.size = size\n",
    "        self.seed = seed\n",
    "        self.batch_filename = batch_filename\n",
    "        self.directory = directory\n",
    "        self.model_filename = model_filename\n",
    "        self.res_periods_filename = res_periods_filename\n",
    "        \n",
    "        self._check_proba(per, 'per')\n",
    "        self._check_positive(arr_period, 'arr_period')\n",
    "        self._check_positive(res_period, 'res_period')\n",
    "        self._check_positive(delay_bound, 'delay_bound')\n",
    "        self._check_nonnegative(seed, 'seed')\n",
    "        \n",
    "        if not os.path.isfile(os.path.join(directory, batch_filename)):\n",
    "            raise ValueError(\"File \\\"{}\\\" is absent\".format(batch_filename))\n",
    "        if not os.path.isfile(os.path.join(directory, model_filename)):\n",
    "            raise ValueError(\"File \\\"{}\\\" is absent\".format(model_filename))\n",
    "        \n",
    "    def __call__(self):\n",
    "        args = [self.arr_period, self.res_period, self.delay_bound, self.per, self.offset, self.size, \n",
    "                self.batch_filename, self.directory, self.res_periods_filename]\n",
    "        with open('input.txt', 'w') as f:\n",
    "            for arg in args:\n",
    "                f.write(str(arg) + '\\n')\n",
    "        model_path = os.path.join(self.directory, self.model_filename)\n",
    "        process = subprocess.Popen(model_path, stdin=subprocess.PIPE, stdout=subprocess.PIPE)\n",
    "        args = str(self.seed).encode('utf8')\n",
    "        #print(' '.join(['--seed', str(self.seed)]))\n",
    "        process.stdin.write(args)\n",
    "        process.stdin.close()\n",
    "        output = process.stdout.read()\n",
    "        output = output.decode('utf8').split('\\n') \n",
    "        output = output[0]\n",
    "        res_period, plr, seed = output.split()\n",
    "        return int(res_period), float(plr), int(seed)"
   ]
  },
  {
   "cell_type": "code",
   "execution_count": 95,
   "metadata": {},
   "outputs": [
    {
     "data": {
      "text/plain": [
       "(4, 0.007650797, 4)"
      ]
     },
     "execution_count": 95,
     "metadata": {},
     "output_type": "execute_result"
    }
   ],
   "source": [
    "seed = 4\n",
    "arr_period = 40\n",
    "offset = 0\n",
    "res_period = 4\n",
    "delay_bound = 100\n",
    "per = 0.3\n",
    "size = 10000\n",
    "batch_filename = \"Dallas.batch.dat\" \n",
    "directory = \"\"\n",
    "res_periods_filename = \"\"\n",
    "\n",
    "sim_model = SimulationModel(arr_period, delay_bound, res_period, per, offset, size, \n",
    "                            seed, directory, batch_filename)\n",
    "sim_model()"
   ]
  },
  {
   "cell_type": "markdown",
   "metadata": {},
   "source": [
    "<a id='config_parser'></a>\n",
    "# 3. ConfigParser<sup>[toc](#toc)</sup>"
   ]
  },
  {
   "cell_type": "code",
   "execution_count": 5,
   "metadata": {},
   "outputs": [],
   "source": [
    "from configparser import ConfigParser\n",
    "\n",
    "class ExperimentConfigBase(Checker):\n",
    "    MODELING_PARAMS = 'modeling_params'\n",
    "    INPUT_FLOW_PARAMS = 'input_flow_params'\n",
    "    RESERVATION_PARAMS = 'reservation_params'\n",
    "    ERRORS_PARAMS = 'errors_params'\n",
    "    ALIASING_PARAMS = 'aliasing_params'\n",
    "    RESULTS = 'results'\n",
    "    \n",
    "    def __init__(self):\n",
    "        self.section_names = [self.MODELING_PARAMS, self.INPUT_FLOW_PARAMS, self.RESERVATION_PARAMS,\n",
    "                              self.ERRORS_PARAMS, self.ALIASING_PARAMS, self.RESULTS]\n",
    "        \n",
    "        from collections import defaultdict\n",
    "        self.types = defaultdict(dict)\n",
    "        \n",
    "        types = self.types[self.MODELING_PARAMS]\n",
    "        types['model_type'] = str\n",
    "        types['seed'] = int\n",
    "        \n",
    "        types = self.types[self.INPUT_FLOW_PARAMS]\n",
    "        types['arr_period'] = int\n",
    "        types['delay_bound'] = int\n",
    "        types['batch_trace'] = str\n",
    "        \n",
    "        types = self.types[self.ERRORS_PARAMS]\n",
    "        types['per'] = float\n",
    "        \n",
    "        types = self.types[self.RESERVATION_PARAMS]\n",
    "        #types['res_period'] = int NOT NEEDED\n",
    "        \n",
    "        types = self.types[self.ALIASING_PARAMS]\n",
    "        types['alpha'] = float\n",
    "        types['gamma'] = float\n",
    "        \n",
    "        # Здесь идут параметры, которые всегда присутствуют в .ini файле\n",
    "        self.defaults = {self.ALIASING_PARAMS: {'alpha': 0.0, 'gamma': 0.0},\n",
    "                         self.RESERVATION_PARAMS: {}}\n",
    "        \n",
    "        # Функции-checker-ы\n",
    "        self.checkers = {self.MODELING_PARAMS: self._check_modeling_params,\n",
    "                         self.INPUT_FLOW_PARAMS: self._check_input_flow_params,\n",
    "                         self.RESERVATION_PARAMS: self._check_reservation_params,\n",
    "                         self.ERRORS_PARAMS: self._check_errors_params,\n",
    "                         self.ALIASING_PARAMS: self._check_aliasing_params,\n",
    "                         self.RESULTS: self._check_results}\n",
    "        \n",
    "    def _append_with_defaults(self, params):\n",
    "        \"\"\"\n",
    "        Данная функция дополняет входной набор параметров дефолтными значениями из self.deafults.\n",
    "        \"\"\"\n",
    "        import copy\n",
    "        params = copy.deepcopy(params) \n",
    "        for section_name in self.defaults:\n",
    "            if section_name not in params:\n",
    "                params[section_name] = {}\n",
    "            for param_name, param_value in self.defaults[section_name].items():\n",
    "                if param_name not in params[section_name]:\n",
    "                    params[section_name][param_name] = param_value            \n",
    "        return params    \n",
    "    \n",
    "    ###########################################################    \n",
    "    #     Функции-checker-ы. Проверяют секции и их параметры  #\n",
    "    ###########################################################\n",
    "    def _check_all_sections_present(self, params):\n",
    "        # Все имена секций в params должны быть из допустимого списка\n",
    "        for section_name in params:\n",
    "            if section_name not in self.section_names:\n",
    "                raise KeyError(\"Section name \\\"{}\\\" is not among available section names.\".format(section_name))\n",
    "        # Словарь params должен содержать все секции кроме, быть может, results\n",
    "        for section_name in self.section_names:\n",
    "            if (section_name not in params) and (section_name != self.RESULTS):\n",
    "                raise KeyError(\"Section name \\\"{}\\\" is not provided in params. At least empty section must be given\".format(section_name))\n",
    "\n",
    "    def _check_modeling_params(self, params):\n",
    "        if params['model_type'] == 'ana':\n",
    "            if 'seed' in params:\n",
    "                raise ValueError(\"Seed must not be given for model_type = \\\"{}\\\"\".format(params['model_type']))\n",
    "        elif params['model_type'] == 'sim':\n",
    "            self._check_nonnegative(params['seed'], 'seed')\n",
    "            if 'seed' not in params:\n",
    "                raise ValueError(\"Seed must be given for model_type = \\\"{}\\\"\".format(params['model_type']))\n",
    "        else:\n",
    "            raise ValueError(\"Unknown model_type = \\\"{}\\\"\".format(params['model_type']))\n",
    "\n",
    "    def _check_input_flow_params(self, params):\n",
    "        self._check_nonnegative(params['arr_period'], 'arr_period')\n",
    "        self._check_nonnegative(params['delay_bound'], 'delay_bound')\n",
    "        \n",
    "    def _check_reservation_params(self, params):\n",
    "        #self._check_nonnegative(params['res_period'], 'res_period')\n",
    "        pass\n",
    "        \n",
    "    def _check_errors_params(self, params):\n",
    "        self._check_proba(params['per'], 'per')\n",
    "\n",
    "    def _check_aliasing_params(self, params):\n",
    "        pass\n",
    "    \n",
    "    def _check_results(self, params):\n",
    "        pass\n",
    "    \n",
    "    \n",
    "class ExperimentConfig(ExperimentConfigBase):\n",
    "    \"\"\"\n",
    "    Класс, являющийся wrapper-ом над параметрами моделирования. \n",
    "    Допускает сравнивание config-ов между собой.\n",
    "    \"\"\"\n",
    "    def __init__(self, params):\n",
    "        \"\"\"\n",
    "        Дополняет параметры дефолтными значениями. Проверяет параметры секций.\n",
    "        \"\"\"\n",
    "        super().__init__()\n",
    "        # Дополнение секций дефолтными параметрами\n",
    "        self.params = self._append_with_defaults(params)\n",
    "        # Проверка присутствия всех секций\n",
    "        self._check_all_sections_present(self.params)\n",
    "        # Проверка секций по отдельности\n",
    "        for section_name in self.params:\n",
    "            self.checkers[section_name](self.params[section_name])\n",
    "        \n",
    "    def __eq__(self, rhs):\n",
    "        \"\"\"\n",
    "        Переопределенный оператор сравнения. Сравнивает только заголовки, не сравнивает секции results!\n",
    "        \"\"\"\n",
    "        lhs_section_names = sorted(list(self.params.keys()))\n",
    "        rhs_section_names = sorted(list(rhs.params.keys()))\n",
    "        if set(lhs_section_names) != set(rhs_section_names):\n",
    "            return False\n",
    "        for section_name in lhs_section_names:\n",
    "            if section_name == self.RESULTS:\n",
    "                continue\n",
    "            lhs_section = self.params[section_name]\n",
    "            rhs_section = rhs.params[section_name]\n",
    "            \n",
    "            lhs_param_names = sorted(list(lhs_section.keys()))\n",
    "            rhs_param_names = sorted(list(rhs_section.keys()))\n",
    "            if set(lhs_param_names) != set(rhs_param_names):\n",
    "                return False\n",
    "            \n",
    "            for param_name in lhs_param_names:\n",
    "                t = self.types[section_name][param_name]\n",
    "                if isinstance(t, float):\n",
    "                    if not np.allclose(lhs_section[param_name], rhs_section[param_name]):\n",
    "                        return False\n",
    "                else:\n",
    "                    if lhs_section[param_name] != rhs_section[param_name]:\n",
    "                        return False\n",
    "        return True\n",
    "\n",
    "    \n",
    "class ExperimentConfigWriter(ExperimentConfigBase):\n",
    "    def __init__(self):\n",
    "        super().__init__()\n",
    "        self.config = ConfigParser()\n",
    "        \n",
    "    def __call__(self, config, config_filename):\n",
    "        assert isinstance(config, ExperimentConfig)\n",
    "        \n",
    "        self.params = config.params\n",
    "        # Формирование конфига из сформированного словаря params\n",
    "        for section_name in self.section_names:\n",
    "            self.config.add_section(section_name)\n",
    "            section = self.params[section_name]\n",
    "            self.checkers[section_name](section) # Проверка параметров секции перед записью\n",
    "            \n",
    "            if section_name == self.RESULTS:\n",
    "                # Отдельная работа с результатами\n",
    "                for res_period, plr in section.items():\n",
    "                    self.config.set(section_name, str(res_period), str(plr))\n",
    "            else:\n",
    "                # Запись всех остальных секций\n",
    "                for param_name, param_value in section.items():\n",
    "                    self.config.set(section_name, param_name, str(param_value))\n",
    "        with open(config_filename, 'w') as f:\n",
    "            self.config.write(f)\n",
    "\n",
    "\n",
    "class ExperimentConfigReader(ExperimentConfigBase):\n",
    "    def __init__(self):\n",
    "        super().__init__()\n",
    "        self.config = ConfigParser()\n",
    "        \n",
    "    def __call__(self, config_filename):\n",
    "        self.params = {}\n",
    "        self.config.read(config_filename)\n",
    "        section_names = self.config.sections()\n",
    "        for section_name in section_names:\n",
    "            section = self.config[section_name]\n",
    "            self.params[section_name] = {}\n",
    "            if section_name != self.RESULTS:\n",
    "                for param_name, param_value in section.items():\n",
    "                    self.params[section_name][param_name] = self.types[section_name][param_name](param_value)\n",
    "            else:\n",
    "                for res_period, plr in section.items():\n",
    "                    self.params[section_name][int(res_period)] = float(plr)\n",
    "        return ExperimentConfig(self.params)"
   ]
  },
  {
   "cell_type": "markdown",
   "metadata": {},
   "source": [
    "### Writing"
   ]
  },
  {
   "cell_type": "code",
   "execution_count": 6,
   "metadata": {},
   "outputs": [],
   "source": [
    "# Modeling params\n",
    "model_type = 'sim'\n",
    "seed = 0\n",
    "\n",
    "# Input flow\n",
    "arr_period = 43\n",
    "delay_bound = 100\n",
    "batch_trace = \"Dallas.batch.dat\"\n",
    "\n",
    "# Reservation\n",
    "\n",
    "# Channel quality\n",
    "per = 0.3\n",
    "\n",
    "# Aliasing\n",
    "alpha = 0.6\n",
    "gamma = 0.7\n",
    "\n",
    "cfg = ExperimentConfig({'modeling_params': {'model_type': model_type, 'seed': 0},\n",
    "          'input_flow_params': {'arr_period': arr_period, 'delay_bound': delay_bound, 'batch_trace': batch_trace},\n",
    "          'errors_params': {'per': per},\n",
    "          'aliasing_params': {}, \n",
    "          'results': {5: 0.012, 4: 0.13}})\n",
    "cfg_filename = 'config.ini'\n",
    "config_writer = ExperimentConfigWriter()\n",
    "config_writer(cfg, cfg_filename)"
   ]
  },
  {
   "cell_type": "markdown",
   "metadata": {},
   "source": [
    "### Reading"
   ]
  },
  {
   "cell_type": "code",
   "execution_count": 161,
   "metadata": {},
   "outputs": [
    {
     "name": "stdout",
     "output_type": "stream",
     "text": [
      "{'errors_params': {'per': 0.3}, 'input_flow_params': {'batch_trace': 'Dallas.batch.dat', 'arr_period': 43, 'delay_bound': 100}, 'results': {4: 0.13, 5: 0.012}, 'aliasing_params': {'alpha': 0.0, 'gamma': 0.0}, 'modeling_params': {'model_type': 'sim', 'seed': 0}, 'reservation_params': {}}\n",
      "{4: 0.13, 5: 0.012}\n"
     ]
    }
   ],
   "source": [
    "config_reader = ExperimentConfigReader()\n",
    "cfg = config_reader(cfg_filename)\n",
    "print(cfg.params)\n",
    "print(cfg.params['results'])"
   ]
  },
  {
   "cell_type": "markdown",
   "metadata": {},
   "source": [
    "### Comparison"
   ]
  },
  {
   "cell_type": "code",
   "execution_count": 164,
   "metadata": {},
   "outputs": [
    {
     "data": {
      "text/plain": [
       "True"
      ]
     },
     "execution_count": 164,
     "metadata": {},
     "output_type": "execute_result"
    }
   ],
   "source": [
    "# Modeling params\n",
    "model_type = 'sim'\n",
    "seed = 0\n",
    "\n",
    "# Input flow\n",
    "arr_period = 40\n",
    "delay_bound = 100\n",
    "batch_trace = \"Dallas.batch.dat\"\n",
    "\n",
    "# Reservation\n",
    "\n",
    "# Channel quality\n",
    "per = 0.3\n",
    "\n",
    "# Aliasing\n",
    "alpha = 0.6\n",
    "gamma = 0.7\n",
    "\n",
    "cfg1 = ExperimentConfig({'modeling_params': {'model_type': model_type, 'seed': 0},\n",
    "          'input_flow_params': {'arr_period': arr_period, 'delay_bound': delay_bound, 'batch_trace': batch_trace},\n",
    "          'errors_params': {'per': per},\n",
    "          'aliasing_params': {}, \n",
    "          'results': {5: 0.012, 4: 0.13}})\n",
    "\n",
    "cfg2 = ExperimentConfig({'modeling_params': {'model_type': model_type, 'seed': 0},\n",
    "          'input_flow_params': {'arr_period': arr_period, 'delay_bound': delay_bound, 'batch_trace': batch_trace},\n",
    "          'errors_params': {'per': per},\n",
    "          'aliasing_params': {'alpha': 0.0, 'gamma': 0.0}, \n",
    "          'results': {5: 0.012, 7: 0.13}})\n",
    "cfg1 == cfg2"
   ]
  },
  {
   "cell_type": "markdown",
   "metadata": {},
   "source": [
    "<a id='anasim'></a>\n",
    "# 4. Analytical and Simulation<sup>[toc](#toc)</sup>"
   ]
  },
  {
   "cell_type": "code",
   "execution_count": 351,
   "metadata": {
    "collapsed": true
   },
   "outputs": [],
   "source": [
    "# Modeling params\n",
    "\n",
    "\n",
    "# Input flow\n",
    "arr_period = 480\n",
    "delay_bound = 1200\n",
    "directory = 'South'\n",
    "batch_trace = \"South.batch.dat\"\n",
    "\n",
    "# Reservation\n",
    "res_period = 48\n",
    "\n",
    "# Channel quality\n",
    "per = 0.3\n",
    "\n",
    "# Aliasing\n",
    "alpha = 0.6\n",
    "gamma = 0.7"
   ]
  },
  {
   "cell_type": "markdown",
   "metadata": {},
   "source": [
    "<a id='anasim_ana'></a>\n",
    "## 4.1 Analytical model<sup>[toc](#toc)</sup>"
   ]
  },
  {
   "cell_type": "code",
   "execution_count": 356,
   "metadata": {},
   "outputs": [
    {
     "name": "stdout",
     "output_type": "stream",
     "text": [
      "Anticipated number of iterations equals 643700\n",
      "Number if iteration 100000, state space size equals 16, curr plr = 0.15700773358583633\n",
      "Number if iteration 200000, state space size equals 21, curr plr = 0.12509836057037937\n",
      "Number if iteration 300000, state space size equals 2, curr plr = 0.10654639177460139\n",
      "Number if iteration 400000, state space size equals 5, curr plr = 0.10221109519305717\n",
      "Number if iteration 500000, state space size equals 22, curr plr = 0.09419999759258446\n",
      "Number if iteration 600000, state space size equals 11, curr plr = 0.0906604766263598\n",
      "0.0884484431233\n"
     ]
    }
   ],
   "source": [
    "PER = 0.3\n",
    "offset = 0\n",
    "D = 1200\n",
    "Tres = 20\n",
    "Tin = 400\n",
    "trace = pd.read_csv('South/South.batch.dat', header=None).values.flatten()\n",
    "\n",
    "n_batches = len(trace)\n",
    "problist = {(0, trace[0], 0): 1}\n",
    "lostlist = {(0, trace[0], 0): 0}\n",
    "W = len(trace) * Tin\n",
    "tracer = BaseTracer(Tin, Tres, D, PER)\n",
    "plr = tracer(W, trace, problist, lostlist, verbose=4, report_period=100000, min_tracked_proba=1e-8)\n",
    "print(plr)"
   ]
  },
  {
   "cell_type": "markdown",
   "metadata": {},
   "source": [
    "<a id='anasim_sim'></a>\n",
    "## 4.2 Simulation model<sup>[toc](#toc)</sup>"
   ]
  },
  {
   "cell_type": "code",
   "execution_count": null,
   "metadata": {
    "collapsed": true,
    "scrolled": true
   },
   "outputs": [],
   "source": [
    "plrs = []\n",
    "for seed in range(50):\n",
    "    print(seed)\n",
    "    arr_period = 400\n",
    "    offset = 0\n",
    "    res_period = 20\n",
    "    delay_bound = 1200\n",
    "    per = 0.3\n",
    "    size = len(trace)\n",
    "    batch_filename = \"South/South.batch.dat\" \n",
    "    directory = \"\"\n",
    "    res_periods_filename = \"\"\n",
    "\n",
    "    sim_model = SimulationModel(arr_period, delay_bound, res_period, per, offset, size, \n",
    "                                seed, directory, batch_filename)\n",
    "    res_period2, plr, seed2 = sim_model()\n",
    "    assert res_period2 == res_period\n",
    "    assert seed == seed2\n",
    "    plrs.append(plr)\n",
    "print(np.mean(plrs), np.std(plrs))"
   ]
  },
  {
   "cell_type": "markdown",
   "metadata": {},
   "source": [
    "<a id='both'></a>\n",
    "## 4.3 Both<sup>[toc](#toc)</sup>"
   ]
  },
  {
   "cell_type": "code",
   "execution_count": null,
   "metadata": {
    "collapsed": true
   },
   "outputs": [],
   "source": [
    "simulation_plrs = []\n",
    "analytical_plrs = []\n",
    "\n",
    "PER = 0.3\n",
    "offset = 0\n",
    "D = 1200\n",
    "Tin = 400\n",
    "trace = pd.read_csv('South/South.batch.dat', header=None).values.flatten()\n",
    "n_batches = len(trace)\n",
    "batch_filename = \"South/South.batch.dat\" \n",
    "directory = \"\"\n",
    "res_periods_filename = \"\"\n",
    "\n",
    "for Tres in range(5, 101, 5):\n",
    "    # Simulation\n",
    "    plrs = []\n",
    "    for seed in range(25):\n",
    "        sim_model = SimulationModel(arr_period=Tin, delay_bound=D, res_period=Tres, per=PER, \n",
    "                                    offset=offset, size=n_batches, \n",
    "                                    seed=seed, directory=directory, batch_filename=batch_filename)\n",
    "        _, plr, _ = sim_model()\n",
    "        plrs.append(plr) \n",
    "    sim_plr = np.mean(plrs)\n",
    "    simulation_plrs.append(sim_plr)\n",
    "    print('(sim) Tres = {}, PLR = {}'.format(Tres, sim_plr))\n",
    "\n",
    "    problist = {(0, trace[0], 0): 1}\n",
    "    lostlist = {(0, trace[0], 0): 0}\n",
    "    W = n_batches * Tin\n",
    "    tracer = BaseTracer(Tin, Tres, D, PER)\n",
    "    ana_plr = tracer(W, trace, problist, lostlist, verbose=4, report_period=10000000, min_tracked_proba=1e-8)\n",
    "    analytical_plrs.append(ana_plr)\n",
    "    print('(ana) Tres = {}, PLR = {}'.format(Tres, ana_plr))"
   ]
  },
  {
   "cell_type": "code",
   "execution_count": 363,
   "metadata": {},
   "outputs": [
    {
     "data": {
      "image/png": "[encoded data removed]",
      "text/plain": [
       "<matplotlib.figure.Figure at 0x7fe729263c88>"
      ]
     },
     "metadata": {},
     "output_type": "display_data"
    }
   ],
   "source": [
    "%matplotlib inline\n",
    "plt.figure(figsize=(10, 8))\n",
    "plt.plot(simulation_plrs, label='sim', marker='x')\n",
    "plt.plot(analytical_plrs, label='ana', marker='+')\n",
    "plt.grid()\n",
    "plt.yscale('log')"
   ]
  },
  {
   "cell_type": "markdown",
   "metadata": {},
   "source": [
    "<a id='raf'></a>\n",
    "# 5. Random Access Function<sup>[toc](#toc)</sup>"
   ]
  },
  {
   "cell_type": "markdown",
   "metadata": {},
   "source": [
    "<a id='raf_class'></a>\n",
    "## 5.1 RandomAccessCalculator<sup>[toc](#toc)</sup>"
   ]
  },
  {
   "cell_type": "code",
   "execution_count": 143,
   "metadata": {
    "collapsed": true
   },
   "outputs": [],
   "source": [
    "class RandomAccessCalculator(Checker):\n",
    "    HMR_LOST = 1\n",
    "    \n",
    "    def __init__(self, params, verbose=0): \n",
    "        \"\"\"\n",
    "        :param params - должен содержать следующие ключи: \n",
    "            arr_period   - период поступления пакетов (мкс, int)\n",
    "            delay_bound  - ограничение времени передачи (мкс, int)\n",
    "            retry_limit  - максимальное число попыток передач на пакет (int)\n",
    "                            \n",
    "            res_period   - период зарезервированного интервала (мкс, int)\n",
    "            det_duration - длительность зарезервированного интервала (мкс, int)\n",
    "            ran_duration - длительность передаче в случайном доступе (мкс, int)\n",
    "            mean_access_time - среднее время между передачами в случайном доступе (мкс, int)\n",
    "                            \n",
    "            ran_per - вероятность ошибки в случайном доступе (float)\n",
    "        :type params - dict\n",
    "        \"\"\"\n",
    "        super().__init__()\n",
    "        self._check_nonnegative(verbose, 'verbose')\n",
    "        self.verbose = verbose\n",
    "        \n",
    "        # Параметры потока\n",
    "        self.arr_period = params['arr_period']\n",
    "        self.delay_bound = params['delay_bound']\n",
    "        #self.input_distr = params['input_distr']\n",
    "        self.retry_limit = params['retry_limit']\n",
    "        self.max_batch_size = params['max_batch_size']\n",
    "        \n",
    "        self._check_int(self.arr_period, 'arr_period')\n",
    "        self._check_positive(self.arr_period, 'arr_period')\n",
    "        self._check_positive(self.delay_bound, 'delay_bound')\n",
    "        self._check_int(self.retry_limit, 'retry_limit')\n",
    "        self._check_positive(self.retry_limit, 'retry_limit')\n",
    "        self._check_int(self.max_batch_size, 'max_batch_size')\n",
    "        self._check_positive(self.max_batch_size, 'max_batch_size')\n",
    "        #self._check_distr(self.distr, 'input_distr')\n",
    "        \n",
    "        # Параметры доступа к каналу\n",
    "        self.res_period = params['res_period']\n",
    "        self.det_duration = params['det_duration']\n",
    "        self.ran_duration = params['ran_duration']\n",
    "        self.mean_access_time = params['mean_access_time']\n",
    "        self._check_int(self.res_period, 'res_period')\n",
    "        self._check_positive(self.res_period, 'res_period')\n",
    "        self._check_positive(self.det_duration, 'det_duration')\n",
    "        self._check_positive(self.ran_duration, 'ran_duration')\n",
    "        self._check_positive(self.mean_access_time, 'mean_access_time')\n",
    "        \n",
    "        # Параметры ошибок\n",
    "        #self.det_per = params['det_per']\n",
    "        self.ran_per = params['ran_per']\n",
    "        #self._check_proba(self.det_per, 'det_per')\n",
    "        self._check_proba(self.ran_per, 'ran_per')\n",
    "        \n",
    "        import math\n",
    "        self.slot = math.gcd(self.arr_period, self.res_period)\n",
    "        self.tin = int(self.arr_period / self.slot)\n",
    "        self.tres = int(self.res_period / self.slot)\n",
    "        self.d = int(self.delay_bound / self.slot)\n",
    "        cbap_duration = self.res_period - self.det_duration\n",
    "        w_distr = self.find_distribution(cbap_duration / self.ran_duration, \n",
    "                                         self.mean_access_time / self.ran_duration)\n",
    "\n",
    "        if self.arr_period < self.res_period:\n",
    "            raise ValueError(\"res_period must not exceed arr_period\")\n",
    "        if self.arr_period > self.delay_bound:\n",
    "            raise ValueError(\"arr_period must not exceed delay_bound\")\n",
    "        \n",
    "        M = self.max_batch_size\n",
    "        R = self.retry_limit\n",
    "        max_window = len(w_distr) - 1\n",
    "        self.max_window = max_window\n",
    "        \n",
    "        # Сначала найдем L[n, w] - мат. ожидание числа отброшенных пакетов, \n",
    "        # когда передача n устаревающих пакетов начинается в начале окна случайного доступа,\n",
    "        # в котором доступно w попыток передач, и каждый из n пакетов имеет R попыток передач.\n",
    "        # Пример L[n, 0] = n, L[n, 1] = n - 1 + PER\n",
    "        self.lost = np.zeros((M + 1, max_window + 1))\n",
    "        for i in range(1, M + 1):\n",
    "            for w in range(max_window + 1):\n",
    "                max_tx_number = min(R, w)\n",
    "                for tx_number in range(1, max_tx_number + 1):\n",
    "                    self.lost[i, w] += (1 - self.ran_per) * self.ran_per ** (tx_number - 1) * \\\n",
    "                        self.lost[i - 1, w - tx_number]\n",
    "                self.lost[i, w] += self.ran_per ** max_tx_number * (1 + self.lost[i - 1, w - max_tx_number])\n",
    "        \n",
    "        # Теперь найдем AL[r, n, w] - мат. ожидание числа отброшенных пакетов, \n",
    "        # когда HoL-пакет пачки размера n уже передавался r раз в детерминированном доступе.\n",
    "        self.all_lost = np.zeros((R + 1, M + 1, max_window + 1))\n",
    "        for r, n, w in product(range(R + 1), range(1, M + 1), range(max_window + 1)):\n",
    "            max_tx_number = min(R - r, w)\n",
    "            for tx_number in range(1, max_tx_number + 1):\n",
    "                self.all_lost[r, n, w] += (1 - self.ran_per) * self.ran_per ** (tx_number - 1) * \\\n",
    "                    self.lost[n - 1, w - tx_number]\n",
    "            self.all_lost[r, n, w] += self.ran_per ** max_tx_number * (1 + self.lost[n - 1, w - max_tx_number])\n",
    "\n",
    "        # Теперь найдем C[n, w] - мат. ожидание числа попыток передач в случайном доступе, \n",
    "        # когда передача n устаревающих пакетов начинается в начале окна случайного доступа,\n",
    "        # в котором доступно w попыток передач, и каждый из n пакетов имеет R попыток передач.\n",
    "        self.etas = np.zeros((M + 1, max_window + 1))\n",
    "        for i in range(1, M + 1):\n",
    "            for w in range(max_window + 1):\n",
    "                max_tx_number = min(R, w)\n",
    "                for tx_number in range(1, max_tx_number + 1):\n",
    "                    self.etas[i, w] += (1 - self.ran_per) * self.ran_per ** (tx_number - 1) * \\\n",
    "                        (tx_number + self.etas[i - 1, w - tx_number])\n",
    "                self.etas[i, w] += self.ran_per ** max_tx_number * (max_tx_number + \\\n",
    "                                                                    self.etas[i - 1, w - max_tx_number])\n",
    "        # Теперь найдем AC[r, n, w] - мат. ожидание числа попыток передач в случайном доступе, \n",
    "        # когда HOL-пакет пачки размера n уже передавался r раз в детерминированном доступе \n",
    "        self.all_etas = np.zeros((R + 1, M + 1, max_window + 1))\n",
    "        for r, n, w in product(range(R + 1), range(1, M + 1), range(max_window + 1)):\n",
    "            max_tx_number = min(R - r, w)\n",
    "            for tx_number in range(1, max_tx_number + 1):\n",
    "                self.all_etas[r, n, w] += (1 - self.ran_per) * self.ran_per ** (tx_number - 1) * \\\n",
    "                                     (tx_number + self.etas[n - 1, w - tx_number])\n",
    "            self.all_etas[r, n, w] += self.ran_per ** max_tx_number * (max_tx_number + \\\n",
    "                                                                  self.etas[n - 1, w - max_tx_number])\n",
    "    \n",
    "    def get_hmr_ranges(self):\n",
    "        return {'h': (self.tres - self.tin, self.d), \n",
    "                'm': (1, self.max_batch_size), \n",
    "                'r': (0, self.retry_limit)}\n",
    "    def get_params(self):\n",
    "        return {'h_min': self.tres - self.tin, \n",
    "                'h_max': self.d,\n",
    "                'tres': self.tres,\n",
    "                'tin': self.tin,\n",
    "                'ran_per': self.ran_per,\n",
    "                'M': self.max_batch_size,\n",
    "                'R': self.retry_limit,\n",
    "                'det_duration': self.det_duration,\n",
    "                'ran_duration': self.ran_duration,\n",
    "                'mean_access_time': self.mean_access_time}\n",
    "    \n",
    "    def find_distribution(self, window, mean_access_time, tol=1e-10):\n",
    "        \"\"\"\n",
    "        Находит распределение числа попыток передач случайного доступа в окне длительности window при условии,\n",
    "        что время между попытками распределено экспоненциально со средним mean_access_time. Предполагается, \n",
    "        что длительность попытки передачи в случайном доступе равна 1.\n",
    "        \n",
    "        :param window - длительность окна передачи\n",
    "        :type window - float\n",
    "        \n",
    "        :param mean_access_time - среднее время доступа к каналу в случайном доступе\n",
    "        :type mean_access_time - float\n",
    "        \"\"\"\n",
    "        \n",
    "        mu = 1 / mean_access_time\n",
    "        distr = []\n",
    "        sum_of_probas = 0\n",
    "        \n",
    "        max_tx_number = int(window)\n",
    "        for tx_number in range(max_tx_number + 1):\n",
    "            sum1 = 0\n",
    "            temp1 = 1\n",
    "            for i in range(tx_number):\n",
    "                sum1 += temp1\n",
    "                temp1 *= mu * (window - tx_number) / (i + 1)\n",
    "            sum1 = 1 - sum1 * np.exp(-mu * (window - tx_number))\n",
    "            \n",
    "            sum2 = 0\n",
    "            temp2 = 1\n",
    "            for i in range(tx_number + 1):\n",
    "                sum2 += temp2\n",
    "                temp2 *= mu * max(window - tx_number - 1, 0) / (i + 1)\n",
    "            sum2 = 1 - sum2 * np.exp(-mu * max(window - tx_number - 1, 0))\n",
    "            distr.append(sum1 - sum2)\n",
    "            sum_of_probas += distr[-1]\n",
    "            if np.abs(sum_of_probas - 1) < tol:\n",
    "                break\n",
    "        return np.array(distr)  \n",
    "        \n",
    "        \n",
    "    def __call__(self, h, m, r, model_type='ana', **kwargs):\n",
    "        if (h < self.tres - self.tin) or (h > self.d):\n",
    "            raise ValueError(\"h is not in acceptable range.\")\n",
    "        if (m <= 0) or (m > self.max_batch_size):\n",
    "            raise ValueError(\"m is not in acceptable range.\")\n",
    "        if (r < 0) or (r > self.retry_limit):\n",
    "            raise ValueError(\"r is not in acceptable range.\")\n",
    "            \n",
    "        if model_type == 'ana':\n",
    "            return self.run_analytical(h, m, r, **kwargs)\n",
    "        elif model_type == 'sim':\n",
    "            return self.run_simulation(h, m, r, **kwargs)\n",
    "        else:\n",
    "            return False\n",
    "        \n",
    "    def run_analytical(self, h, m, r, **kwargs):\n",
    "        \"\"\"\n",
    "        :param h - время в слотах, которое пакет провел в очереди\n",
    "        :param m - размер HoL-пачки\n",
    "        :param r - сколько раз HoL-пакет уже передавался\n",
    "        \"\"\"\n",
    "        if h <= self.d - self.tres: # Пока что пакет еще не устраевает, ничего не теряем.\n",
    "            return 0, 0\n",
    "        \n",
    "        # Нахождение распределения числа попыток передач\n",
    "        cbap_duration = self.res_period - self.det_duration\n",
    "        remaining_time = self.delay_bound - h * self.slot - self.det_duration\n",
    "\n",
    "        if remaining_time < 0: # В случайном доступе теряем все пакеты, так как не осталось времени на передачу\n",
    "            self.printers[self.HMR_LOST](\" No time for transmission in CBAP: \" \\\n",
    "                                    \"remaining_time = {}, cbap_duration = {}\".format(\n",
    "                                    cbap_duration, remaining_time))\n",
    "            return m - 1, 0  \n",
    "\n",
    "        \n",
    "        remaining_time += self.ran_duration\n",
    "        remaining_time = min(cbap_duration, remaining_time)\n",
    "\n",
    "        w_distr = self.find_distribution(remaining_time / self.ran_duration, \n",
    "                                         self.mean_access_time / self.ran_duration)\n",
    "\n",
    "        lost = 0\n",
    "        cons = 0\n",
    "        for w in range(len(w_distr)):\n",
    "            lost += w_distr[w] * self.all_lost[r, m, w]\n",
    "            cons += w_distr[w] * self.all_etas[r, m, w]\n",
    "            \n",
    "            #lost += w_distr[w] * (self.det_per * self.all_lost[r + 1, m, w] + \\\n",
    "            #                          (1 - self.det_per) * self.lost[m - 1, w])\n",
    "            #cons += w_distr[w] * (self.det_per * self.all_etas[r + 1, m, w] + \\\n",
    "            #                          (1 - self.det_per) * self.etas[m - 1, w])\n",
    "        return lost, cons\n",
    "    \n",
    "    def run_simulation(self, h, m, r, seed=0, **kwargs):\n",
    "        np.random.seed(seed)\n",
    "        \n",
    "        mean_access_time = self.mean_access_time / self.ran_duration\n",
    "        cbap_duration = (self.res_period - self.det_duration) / self.ran_duration\n",
    "        remaining_time = (self.delay_bound - h * self.slot - self.det_duration + self.ran_duration) / self.ran_duration\n",
    "        ran_duration = 1\n",
    "        window = min(cbap_duration, remaining_time)\n",
    "\n",
    "        remaining_window = cbap_duration\n",
    "        n_transmissions = 0\n",
    "        n_lost = 0\n",
    "        \n",
    "        while True:\n",
    "            if m == 0:\n",
    "                break\n",
    "                \n",
    "            window -= np.random.exponential(mean_access_time)\n",
    "            if window >= ran_duration:\n",
    "                n_transmissions += 1\n",
    "                success = np.random.choice([0, 1], p=[self.ran_per, 1 - self.ran_per])\n",
    "                if success:\n",
    "                    m -= 1\n",
    "                    r = 0\n",
    "                else:\n",
    "                    r += 1\n",
    "                if r == self.retry_limit:\n",
    "                    n_lost += 1\n",
    "                    m -= 1\n",
    "                    r = 0\n",
    "                window -= ran_duration\n",
    "            else:\n",
    "                break\n",
    "        n_lost += m\n",
    "        return n_lost, n_transmissions"
   ]
  },
  {
   "cell_type": "code",
   "execution_count": 144,
   "metadata": {},
   "outputs": [
    {
     "name": "stdout",
     "output_type": "stream",
     "text": [
      "{'h': (-5, 20), 'm': (1, 20), 'r': (0, 30)}\n",
      "{'h_min': -5, 'h_max': 20, 'tres': 3, 'tin': 8, 'ran_per': 0.3, 'M': 20, 'R': 30, 'det_duration': 480, 'ran_duration': 1012, 'mean_access_time': 10}\n",
      "(3.0000000010715877, 9.9999999984691605)\n",
      "3.033 10.0\n"
     ]
    }
   ],
   "source": [
    "params['arr_period']  =    40000\n",
    "params['res_period']  =    15000\n",
    "params['delay_bound'] =   100000\n",
    "params['max_batch_size']   = 20\n",
    "params['mean_access_time'] = 10\n",
    "params['ran_duration']     = 1012 \n",
    "params['det_duration']     = 480\n",
    "params['ran_per']    = 0.3\n",
    "params['retry_limit'] = 30\n",
    "\n",
    "raf = RandomAccessCalculator(params, 10)\n",
    "print(raf.get_hmr_ranges())\n",
    "print(raf.get_params())\n",
    "print(raf(18, 10, 0))\n",
    "\n",
    "n_losts = []\n",
    "n_transmissions = []\n",
    "\n",
    "n_runs = 1000\n",
    "for n_run in range(n_runs):\n",
    "    n_lost, n_transmission = raf(18, 10, 0, model_type='sim', seed=n_run)\n",
    "    #print(n_lost, n_transmission)\n",
    "    n_losts.append(n_lost)\n",
    "    n_transmissions.append(n_transmission)\n",
    "print(np.mean(n_losts), np.mean(n_transmissions))"
   ]
  },
  {
   "cell_type": "code",
   "execution_count": null,
   "metadata": {
    "collapsed": true
   },
   "outputs": [],
   "source": []
  }
 ],
 "metadata": {
  "anaconda-cloud": {},
  "kernelspec": {
   "display_name": "Python [conda env:tensorflow]",
   "language": "python",
   "name": "conda-env-tensorflow-py"
  },
  "language_info": {
   "codemirror_mode": {
    "name": "ipython",
    "version": 3
   },
   "file_extension": ".py",
   "mimetype": "text/x-python",
   "name": "python",
   "nbconvert_exporter": "python",
   "pygments_lexer": "ipython3",
   "version": "3.5.2"
  }
 },
 "nbformat": 4,
 "nbformat_minor": 2
}
